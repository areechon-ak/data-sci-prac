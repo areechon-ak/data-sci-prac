{
  "nbformat": 4,
  "nbformat_minor": 0,
  "metadata": {
    "colab": {
      "provenance": []
    },
    "kernelspec": {
      "name": "python3",
      "display_name": "Python 3"
    },
    "language_info": {
      "name": "python"
    }
  },
  "cells": [
    {
      "cell_type": "markdown",
      "source": [
        "# Presentation"
      ],
      "metadata": {
        "id": "c5cvITKse73Q"
      }
    },
    {
      "cell_type": "code",
      "source": [
        "import numpy as np\n",
        "import seaborn as sns\n",
        "import pandas as pd\n",
        "import matplotlib.pyplot as plt"
      ],
      "metadata": {
        "id": "AzDl-fIEgOAc"
      },
      "execution_count": null,
      "outputs": []
    },
    {
      "cell_type": "code",
      "source": [
        "df2019['sentiment'].value_counts() / df2019.shape[0]"
      ],
      "metadata": {
        "colab": {
          "base_uri": "https://localhost:8080/"
        },
        "id": "MoqdZLLT3EUU",
        "outputId": "99ff81f3-4ba1-4078-a62e-975a176f047e"
      },
      "execution_count": null,
      "outputs": [
        {
          "output_type": "execute_result",
          "data": {
            "text/plain": [
              "neg    0.816826\n",
              "pos    0.175526\n",
              "Name: sentiment, dtype: float64"
            ]
          },
          "metadata": {},
          "execution_count": 103
        }
      ]
    },
    {
      "cell_type": "markdown",
      "source": [
        "## Clearing length > 280"
      ],
      "metadata": {
        "id": "W0StNBahfFLA"
      }
    },
    {
      "cell_type": "code",
      "source": [
        "df2019 = pd.read_csv('/content/drive/MyDrive/DS-project/df2019.csv')\n",
        "df2021 = pd.read_csv('/content/drive/MyDrive/DS-project/df2021.csv')"
      ],
      "metadata": {
        "id": "6oZGM4s1XYTa"
      },
      "execution_count": null,
      "outputs": []
    },
    {
      "cell_type": "code",
      "source": [
        "df2019['length'] = df2019['text'].str.len()\n",
        "df2021['length'] = df2019['text'].str.len()"
      ],
      "metadata": {
        "id": "_nopp5jWXlZf"
      },
      "execution_count": null,
      "outputs": []
    },
    {
      "cell_type": "code",
      "source": [
        "df2019['length']"
      ],
      "metadata": {
        "colab": {
          "base_uri": "https://localhost:8080/"
        },
        "id": "RlUlJIyHYJhu",
        "outputId": "834aa19e-eac6-4e62-8cae-757aa409ca02"
      },
      "execution_count": null,
      "outputs": [
        {
          "output_type": "execute_result",
          "data": {
            "text/plain": [
              "0        89\n",
              "1       280\n",
              "2       103\n",
              "3       303\n",
              "4       304\n",
              "       ... \n",
              "2610    188\n",
              "2611     81\n",
              "2612     90\n",
              "2613    116\n",
              "2614     87\n",
              "Name: length, Length: 2615, dtype: int64"
            ]
          },
          "metadata": {},
          "execution_count": 5
        }
      ]
    },
    {
      "cell_type": "code",
      "source": [
        "df2021['length']"
      ],
      "metadata": {
        "colab": {
          "base_uri": "https://localhost:8080/"
        },
        "id": "louR5liIhuDJ",
        "outputId": "fce48c97-0634-4202-8ad7-c667159b5eb9"
      },
      "execution_count": null,
      "outputs": [
        {
          "output_type": "execute_result",
          "data": {
            "text/plain": [
              "0        89\n",
              "1       280\n",
              "2       103\n",
              "3       303\n",
              "4       304\n",
              "       ... \n",
              "1407     64\n",
              "1408     75\n",
              "1409    117\n",
              "1410    172\n",
              "1411    164\n",
              "Name: length, Length: 1412, dtype: int64"
            ]
          },
          "metadata": {},
          "execution_count": 6
        }
      ]
    },
    {
      "cell_type": "code",
      "source": [
        "df2019.loc[df2019['length'] > 280, ['Column1', 'text']].values"
      ],
      "metadata": {
        "id": "WGUTnlplYh4Q"
      },
      "execution_count": null,
      "outputs": []
    },
    {
      "cell_type": "code",
      "source": [
        "df2021.loc[df2021['length'] > 280, ['Column1', 'text']].values"
      ],
      "metadata": {
        "id": "DwEVUsDhhy6i"
      },
      "execution_count": null,
      "outputs": []
    },
    {
      "cell_type": "code",
      "source": [
        "df2019['text'] = df2019['text'].str.replace(r' [h,t,p]{4}s?[:,/]{3}[t,.,c,o,/]{5}\\w{5}\\w{5}', '')\n",
        "df2021['text'] = df2021['text'].str.replace(r' [h,t,p]{4}s?[:,/]{3}[t,.,c,o,/]{5}\\w{5}\\w{5}', '')"
      ],
      "metadata": {
        "id": "bEqSOVgCaZdf"
      },
      "execution_count": null,
      "outputs": []
    },
    {
      "cell_type": "code",
      "source": [
        "df2019['text'] = df2019['text'].str.replace(r'@\\w+\\W?', '')\n",
        "df2021['text'] = df2021['text'].str.replace(r'@\\w+\\W?', '')"
      ],
      "metadata": {
        "id": "r_lQDs31abru"
      },
      "execution_count": null,
      "outputs": []
    },
    {
      "cell_type": "code",
      "source": [
        "df2019['text'] = df2019['text'].str.replace(r'\\n', ' ')\n",
        "df2021['text'] = df2021['text'].str.replace(r'\\n', ' ')"
      ],
      "metadata": {
        "id": "QaVqHfIjZUGz"
      },
      "execution_count": null,
      "outputs": []
    },
    {
      "cell_type": "code",
      "source": [
        "df2019['text'] = df2019['text'].str.replace('&amp;','&')\n",
        "df2021['text'] = df2021['text'].str.replace('&amp;','&')"
      ],
      "metadata": {
        "id": "P5ovhvxqeKBo"
      },
      "execution_count": null,
      "outputs": []
    },
    {
      "cell_type": "code",
      "source": [
        "df2019['text'] = df2019['text'].str.replace('\\u200d♀', '♀')"
      ],
      "metadata": {
        "id": "qpzav9qKiEyc"
      },
      "execution_count": null,
      "outputs": []
    },
    {
      "cell_type": "code",
      "source": [
        "df2021['text'] = df2021['text'].str.replace('\\u200d♀', '♀')"
      ],
      "metadata": {
        "id": "JctQ52p3iIiE"
      },
      "execution_count": null,
      "outputs": []
    },
    {
      "cell_type": "code",
      "source": [
        "df2019['length'] = df2019['text'].str.len()\n",
        "df2021['length'] = df2019['text'].str.len()"
      ],
      "metadata": {
        "id": "1kVkg0m7iTx4"
      },
      "execution_count": null,
      "outputs": []
    },
    {
      "cell_type": "code",
      "source": [
        "df2019['text'] = df2019['text'].str.replace('&gt;&gt;', '')\n",
        "df2021['text'] = df2021['text'].str.replace('&gt;&gt;', '')"
      ],
      "metadata": {
        "id": "Ocqb2_f9njVF"
      },
      "execution_count": null,
      "outputs": []
    },
    {
      "cell_type": "code",
      "source": [
        "df2019['length'] = df2019['text'].str.len()\n",
        "df2021['length'] = df2019['text'].str.len()"
      ],
      "metadata": {
        "id": "0XNvs-asoTxr"
      },
      "execution_count": null,
      "outputs": []
    },
    {
      "cell_type": "code",
      "source": [
        "df2019['length']"
      ],
      "metadata": {
        "colab": {
          "base_uri": "https://localhost:8080/"
        },
        "id": "WZfcroyYeDnx",
        "outputId": "8c7d14bb-b54a-4b97-dc97-d3ba4e574249"
      },
      "execution_count": null,
      "outputs": [
        {
          "output_type": "execute_result",
          "data": {
            "text/plain": [
              "0        65\n",
              "1       256\n",
              "2       103\n",
              "3       264\n",
              "4       280\n",
              "       ... \n",
              "2610    188\n",
              "2611     57\n",
              "2612     66\n",
              "2613    116\n",
              "2614     63\n",
              "Name: length, Length: 2615, dtype: int64"
            ]
          },
          "metadata": {},
          "execution_count": 17
        }
      ]
    },
    {
      "cell_type": "code",
      "source": [
        "df2021['length']"
      ],
      "metadata": {
        "colab": {
          "base_uri": "https://localhost:8080/"
        },
        "id": "RkvlsWSSiLne",
        "outputId": "10ac40ab-b5c7-48d2-e38f-b868bb4f260f"
      },
      "execution_count": null,
      "outputs": [
        {
          "output_type": "execute_result",
          "data": {
            "text/plain": [
              "0        65\n",
              "1       256\n",
              "2       103\n",
              "3       264\n",
              "4       280\n",
              "       ... \n",
              "1407     64\n",
              "1408     51\n",
              "1409     78\n",
              "1410    134\n",
              "1411    140\n",
              "Name: length, Length: 1412, dtype: int64"
            ]
          },
          "metadata": {},
          "execution_count": 18
        }
      ]
    },
    {
      "cell_type": "code",
      "source": [
        "df2019.loc[df2019['length'] > 280, ['Column1', 'text']].values"
      ],
      "metadata": {
        "colab": {
          "base_uri": "https://localhost:8080/"
        },
        "id": "TgHqYiPAeGGs",
        "outputId": "139b363e-aae2-4e75-9b99-61feaa06b40f"
      },
      "execution_count": null,
      "outputs": [
        {
          "output_type": "execute_result",
          "data": {
            "text/plain": [
              "array([], shape=(0, 2), dtype=object)"
            ]
          },
          "metadata": {},
          "execution_count": 19
        }
      ]
    },
    {
      "cell_type": "code",
      "source": [
        "df2021.loc[df2021['length'] > 280, ['Column1', 'text']].values"
      ],
      "metadata": {
        "colab": {
          "base_uri": "https://localhost:8080/"
        },
        "id": "780NIFhCiWpS",
        "outputId": "4be84087-c8b4-4313-b633-ce92d056d3d5"
      },
      "execution_count": null,
      "outputs": [
        {
          "output_type": "execute_result",
          "data": {
            "text/plain": [
              "array([], shape=(0, 2), dtype=object)"
            ]
          },
          "metadata": {},
          "execution_count": 20
        }
      ]
    },
    {
      "cell_type": "markdown",
      "source": [
        "## Plot"
      ],
      "metadata": {
        "id": "7PTLH5O7e0uN"
      }
    },
    {
      "cell_type": "code",
      "source": [
        "dfp2 = df2019[['sentiment','length',]]\n",
        "dfp2 = dfp2.groupby('sentiment')\n",
        "dfp2.boxplot(figsize=(10,10))"
      ],
      "metadata": {
        "colab": {
          "base_uri": "https://localhost:8080/",
          "height": 657
        },
        "id": "b56NNiR8fTcw",
        "outputId": "412a60a3-b852-476d-bae5-29c89aee7985"
      },
      "execution_count": null,
      "outputs": [
        {
          "output_type": "execute_result",
          "data": {
            "text/plain": [
              "neg         AxesSubplot(0.1,0.15;0.363636x0.75)\n",
              "pos    AxesSubplot(0.536364,0.15;0.363636x0.75)\n",
              "dtype: object"
            ]
          },
          "metadata": {},
          "execution_count": 90
        },
        {
          "output_type": "display_data",
          "data": {
            "image/png": "[encoded data removed]",
            "text/plain": [
              "<Figure size 720x720 with 2 Axes>"
            ]
          },
          "metadata": {
            "needs_background": "light"
          }
        }
      ]
    },
    {
      "cell_type": "code",
      "source": [],
      "metadata": {
        "id": "zUT2L9RJ1qeH"
      },
      "execution_count": null,
      "outputs": []
    },
    {
      "cell_type": "code",
      "source": [
        "df2021.rename(columns={'pos_neg':'sentiment'}, inplace=True)"
      ],
      "metadata": {
        "id": "QlmwMRkg1u02"
      },
      "execution_count": null,
      "outputs": []
    },
    {
      "cell_type": "code",
      "source": [
        "g = sns.catplot(x='sentiment',\n",
        "                y='length',\n",
        "                data=df2021,\n",
        "                kind='box',\n",
        "                height=7,\n",
        "                aspect=1,\n",
        "                order=['neg', 'pos'],\n",
        "                palette=['#E4443F', '#028174'])\n",
        "\n",
        "g.set_axis_labels(\"Sentiment\", \"Length of Text\")\n",
        "plt.show()"
      ],
      "metadata": {
        "colab": {
          "base_uri": "https://localhost:8080/",
          "height": 513
        },
        "id": "HTlYn6IEi6xN",
        "outputId": "14c5a3e0-11cb-44f6-e836-148d172b4fcc"
      },
      "execution_count": null,
      "outputs": [
        {
          "output_type": "display_data",
          "data": {
            "image/png": "[encoded data removed]",
            "text/plain": [
              "<Figure size 504x504 with 1 Axes>"
            ]
          },
          "metadata": {
            "needs_background": "light"
          }
        }
      ]
    },
    {
      "cell_type": "code",
      "source": [
        "g = sns.catplot(x='sentiment',\n",
        "                y='length',\n",
        "                data=df2019,\n",
        "                kind='box',\n",
        "                height=7,\n",
        "                aspect=1,\n",
        "                palette=['#E4443F', '#028174'])\n",
        "\n",
        "plt.show()"
      ],
      "metadata": {
        "colab": {
          "base_uri": "https://localhost:8080/",
          "height": 240
        },
        "id": "TSUFFH55tkCO",
        "outputId": "1fc2f90b-5d62-49dd-9ce8-9cf5a82aafa5"
      },
      "execution_count": null,
      "outputs": [
        {
          "output_type": "error",
          "ename": "NameError",
          "evalue": "ignored",
          "traceback": [
            "\u001b[0;31m---------------------------------------------------------------------------\u001b[0m",
            "\u001b[0;31mNameError\u001b[0m                                 Traceback (most recent call last)",
            "\u001b[0;32m<ipython-input-187-2f9a9b79d2a5>\u001b[0m in \u001b[0;36m<module>\u001b[0;34m()\u001b[0m\n\u001b[1;32m      5\u001b[0m                 \u001b[0mheight\u001b[0m\u001b[0;34m=\u001b[0m\u001b[0;36m7\u001b[0m\u001b[0;34m,\u001b[0m\u001b[0;34m\u001b[0m\u001b[0;34m\u001b[0m\u001b[0m\n\u001b[1;32m      6\u001b[0m                 \u001b[0maspect\u001b[0m\u001b[0;34m=\u001b[0m\u001b[0;36m1\u001b[0m\u001b[0;34m,\u001b[0m\u001b[0;34m\u001b[0m\u001b[0;34m\u001b[0m\u001b[0m\n\u001b[0;32m----> 7\u001b[0;31m                 \u001b[0mestimator\u001b[0m\u001b[0;34m=\u001b[0m\u001b[0mmedian\u001b[0m\u001b[0;34m,\u001b[0m\u001b[0;34m\u001b[0m\u001b[0;34m\u001b[0m\u001b[0m\n\u001b[0m\u001b[1;32m      8\u001b[0m                 palette=['#E4443F', '#028174'])\n\u001b[1;32m      9\u001b[0m \u001b[0;34m\u001b[0m\u001b[0m\n",
            "\u001b[0;31mNameError\u001b[0m: name 'median' is not defined"
          ]
        }
      ]
    },
    {
      "cell_type": "code",
      "source": [
        "g = sns.catplot(x='sentiment',\n",
        "                y='#hashtag',\n",
        "                data=df2019,\n",
        "                kind='bar',\n",
        "                height=7,\n",
        "                aspect=1,\n",
        "                palette=['#E4443F', '#028174'])\n",
        "\n",
        "plt.show()"
      ],
      "metadata": {
        "colab": {
          "base_uri": "https://localhost:8080/",
          "height": 513
        },
        "id": "Ob6NCnuHtx59",
        "outputId": "0c4f6a5c-b23c-4807-f120-41dc1bcebab5"
      },
      "execution_count": null,
      "outputs": [
        {
          "output_type": "display_data",
          "data": {
            "image/png": "[encoded data removed]",
            "text/plain": [
              "<Figure size 504x504 with 1 Axes>"
            ]
          },
          "metadata": {
            "needs_background": "light"
          }
        }
      ]
    },
    {
      "cell_type": "code",
      "source": [
        "def hashtag_count(series):\n",
        "    words = series.split()\n",
        "    hashtags = [word for word in words if word.startswith('#')]\n",
        "    return len(hashtags)"
      ],
      "metadata": {
        "id": "4sOgeAhAj1CJ"
      },
      "execution_count": null,
      "outputs": []
    },
    {
      "cell_type": "code",
      "source": [
        "df2019['#hashtag'] = df2019['text'].apply(hashtag_count)"
      ],
      "metadata": {
        "id": "82WL1slDkRcO"
      },
      "execution_count": null,
      "outputs": []
    },
    {
      "cell_type": "code",
      "source": [
        "df2021['#hashtag'] = df2021['text'].apply(hashtag_count)"
      ],
      "metadata": {
        "id": "jbb854AZlTBT"
      },
      "execution_count": null,
      "outputs": []
    },
    {
      "cell_type": "code",
      "source": [
        "dfp2 = df2021[['sentiment','length',]]\n",
        "dfp2 = dfp2.groupby('sentiment')\n",
        "dfp2.boxplot(figsize=(10,10))"
      ],
      "metadata": {
        "id": "y7X8KEznhIuk"
      },
      "execution_count": null,
      "outputs": []
    },
    {
      "cell_type": "code",
      "source": [
        "df2019['#hashtag']"
      ],
      "metadata": {
        "colab": {
          "base_uri": "https://localhost:8080/"
        },
        "id": "Yzp-8_IhsD0H",
        "outputId": "848d7c4b-f8ab-4bba-a10a-6677087d925d"
      },
      "execution_count": null,
      "outputs": [
        {
          "output_type": "execute_result",
          "data": {
            "text/plain": [
              "0       2\n",
              "1       4\n",
              "2       1\n",
              "3       1\n",
              "4       1\n",
              "       ..\n",
              "2610    1\n",
              "2611    1\n",
              "2612    1\n",
              "2613    1\n",
              "2614    1\n",
              "Name: #hashtag, Length: 2615, dtype: int64"
            ]
          },
          "metadata": {},
          "execution_count": 194
        }
      ]
    },
    {
      "cell_type": "code",
      "source": [
        "df2019.columns"
      ],
      "metadata": {
        "colab": {
          "base_uri": "https://localhost:8080/"
        },
        "id": "2rXweB8qzq1T",
        "outputId": "f3fad57c-236e-4a91-8675-00fd7cbd7931"
      },
      "execution_count": null,
      "outputs": [
        {
          "output_type": "execute_result",
          "data": {
            "text/plain": [
              "Index(['Column1', 'publishedDate', 'tweet_id', 'text', 'sentiment', 'username',\n",
              "       'user_followerCount', 'replyCount', 'retweetCount', 'likeCount',\n",
              "       'quoteCount', 'outlinks', 'media', 'quotedTweet', 'mentionedUsers',\n",
              "       'hashtags', 'length', '#hashtag'],\n",
              "      dtype='object')"
            ]
          },
          "metadata": {},
          "execution_count": 198
        }
      ]
    },
    {
      "cell_type": "code",
      "source": [
        "df2019['publishedDate']"
      ],
      "metadata": {
        "colab": {
          "base_uri": "https://localhost:8080/"
        },
        "id": "7-6wwK1M1JD-",
        "outputId": "2996c7c6-b40f-44fa-fd3c-135db9c09e59"
      },
      "execution_count": null,
      "outputs": [
        {
          "output_type": "execute_result",
          "data": {
            "text/plain": [
              "0       12/30/2019 15:56\n",
              "1       12/30/2019 15:32\n",
              "2       12/30/2019 11:55\n",
              "3       12/29/2019 11:06\n",
              "4       12/29/2019 10:43\n",
              "              ...       \n",
              "2610      1/3/2019 10:17\n",
              "2611       1/3/2019 8:22\n",
              "2612      1/2/2019 22:52\n",
              "2613      1/2/2019 18:26\n",
              "2614      1/2/2019 14:37\n",
              "Name: publishedDate, Length: 2615, dtype: object"
            ]
          },
          "metadata": {},
          "execution_count": 202
        }
      ]
    },
    {
      "cell_type": "code",
      "source": [
        "df2019['publishedDate'] = pd.to_datetime(df2019['publishedDate'], format='%m/%d/%Y %H:%M')"
      ],
      "metadata": {
        "id": "zlavgiLKz-if"
      },
      "execution_count": null,
      "outputs": []
    },
    {
      "cell_type": "code",
      "source": [
        "df2019.info()"
      ],
      "metadata": {
        "colab": {
          "base_uri": "https://localhost:8080/"
        },
        "id": "V3aAEt2J2V-G",
        "outputId": "4a25a62d-0b3d-4b0c-c2f1-21779874976b"
      },
      "execution_count": null,
      "outputs": [
        {
          "output_type": "stream",
          "name": "stdout",
          "text": [
            "<class 'pandas.core.frame.DataFrame'>\n",
            "RangeIndex: 2615 entries, 0 to 2614\n",
            "Data columns (total 18 columns):\n",
            " #   Column              Non-Null Count  Dtype         \n",
            "---  ------              --------------  -----         \n",
            " 0   Column1             2615 non-null   int64         \n",
            " 1   publishedDate       2615 non-null   datetime64[ns]\n",
            " 2   tweet_id            2615 non-null   float64       \n",
            " 3   text                2615 non-null   object        \n",
            " 4   sentiment           2595 non-null   object        \n",
            " 5   username            2615 non-null   object        \n",
            " 6   user_followerCount  2615 non-null   int64         \n",
            " 7   replyCount          2615 non-null   int64         \n",
            " 8   retweetCount        2615 non-null   int64         \n",
            " 9   likeCount           2615 non-null   int64         \n",
            " 10  quoteCount          2615 non-null   int64         \n",
            " 11  outlinks            67 non-null     object        \n",
            " 12  media               1119 non-null   object        \n",
            " 13  quotedTweet         46 non-null     object        \n",
            " 14  mentionedUsers      310 non-null    object        \n",
            " 15  hashtags            2613 non-null   object        \n",
            " 16  length              2615 non-null   int64         \n",
            " 17  #hashtag            2615 non-null   int64         \n",
            "dtypes: datetime64[ns](1), float64(1), int64(8), object(8)\n",
            "memory usage: 367.9+ KB\n"
          ]
        }
      ]
    },
    {
      "cell_type": "code",
      "source": [
        "df2019['Day'] = df2019['publishedDate'].dt.dayofweek.astype(str)"
      ],
      "metadata": {
        "id": "3h1gpAfB2YnH"
      },
      "execution_count": null,
      "outputs": []
    },
    {
      "cell_type": "code",
      "source": [
        "df2021['Day'] = df2019['publishedDate'].dt.dayofweek.astype(str)"
      ],
      "metadata": {
        "id": "gHedp8Dnl-0z"
      },
      "execution_count": null,
      "outputs": []
    },
    {
      "cell_type": "code",
      "source": [
        "df2019['publishedDate']"
      ],
      "metadata": {
        "colab": {
          "base_uri": "https://localhost:8080/"
        },
        "id": "tlShCIl53rWy",
        "outputId": "cd3d54b8-b06a-4be0-a924-b84986e2025a"
      },
      "execution_count": null,
      "outputs": [
        {
          "output_type": "execute_result",
          "data": {
            "text/plain": [
              "0      2019-12-30 15:56:00\n",
              "1      2019-12-30 15:32:00\n",
              "2      2019-12-30 11:55:00\n",
              "3      2019-12-29 11:06:00\n",
              "4      2019-12-29 10:43:00\n",
              "               ...        \n",
              "2610   2019-01-03 10:17:00\n",
              "2611   2019-01-03 08:22:00\n",
              "2612   2019-01-02 22:52:00\n",
              "2613   2019-01-02 18:26:00\n",
              "2614   2019-01-02 14:37:00\n",
              "Name: publishedDate, Length: 2615, dtype: datetime64[ns]"
            ]
          },
          "metadata": {},
          "execution_count": 240
        }
      ]
    },
    {
      "cell_type": "code",
      "source": [
        "df2019['Day']"
      ],
      "metadata": {
        "colab": {
          "base_uri": "https://localhost:8080/"
        },
        "id": "cP7kya4g3n8d",
        "outputId": "1e8ea333-b3b5-4de1-bf1d-f4fd7d5a5d81"
      },
      "execution_count": null,
      "outputs": [
        {
          "output_type": "execute_result",
          "data": {
            "text/plain": [
              "0       0\n",
              "1       0\n",
              "2       0\n",
              "3       6\n",
              "4       6\n",
              "       ..\n",
              "2610    3\n",
              "2611    3\n",
              "2612    2\n",
              "2613    2\n",
              "2614    2\n",
              "Name: Day, Length: 2615, dtype: object"
            ]
          },
          "metadata": {},
          "execution_count": 23
        }
      ]
    },
    {
      "cell_type": "code",
      "source": [
        "df2019['Month'] = df2019['publishedDate'].dt.to_period('M').astype(str)"
      ],
      "metadata": {
        "id": "dzn36Hg44dWO"
      },
      "execution_count": null,
      "outputs": []
    },
    {
      "cell_type": "code",
      "source": [
        "df2019['Date'] = df2019['publishedDate'].dt.day"
      ],
      "metadata": {
        "id": "JTfMbCqu61XY"
      },
      "execution_count": null,
      "outputs": []
    },
    {
      "cell_type": "code",
      "source": [
        "df2019['Day'] = df2019['Day'].map({'0':'Mon', '1':'Tue', '2':'Wed', '3':'Thu', '4':'Fri', '5':'Sat', '6':'Sun'})"
      ],
      "metadata": {
        "id": "ZtXz4cef3HRj"
      },
      "execution_count": null,
      "outputs": []
    },
    {
      "cell_type": "code",
      "source": [
        "df2019['Month'] = df2019['Month'].map({'2019-12':'Dec', '2019-11':'Nov', '2019-10':'Oct', '2019-09':'Sep', '2019-08':'Aug', '2019-07':'Jul', '2019-06':'Jun', '2019-05':'May', '2019-04':'Apr', '2019-03':'Mar', '2019-02':'Feb', '2019-01':'Jan'})"
      ],
      "metadata": {
        "id": "l5FJ-oTI9tIG"
      },
      "execution_count": null,
      "outputs": []
    },
    {
      "cell_type": "code",
      "source": [
        "tweets = pd.crosstab(df2019['Month'], df2019['Date'].sort_values())\n",
        "\n",
        "# Draw a heatmap with the numeric values in each cell\n",
        "fig, ax = plt.subplots(figsize=(15,8))\n",
        "ax = sns.heatmap(tweets, ax=ax, annot=True, fmt='d')\n",
        "ax.set_title('Tweet Count')\n",
        "plt.show()"
      ],
      "metadata": {
        "colab": {
          "base_uri": "https://localhost:8080/",
          "height": 513
        },
        "id": "AP3bpRbKsKhy",
        "outputId": "2bde5d20-7bfb-4973-db8d-96fe7622e1f6"
      },
      "execution_count": null,
      "outputs": [
        {
          "output_type": "display_data",
          "data": {
            "image/png": "[encoded data removed]",
            "text/plain": [
              "<Figure size 1080x576 with 2 Axes>"
            ]
          },
          "metadata": {
            "needs_background": "light"
          }
        }
      ]
    },
    {
      "cell_type": "code",
      "source": [
        "df2021['publishedDate']"
      ],
      "metadata": {
        "colab": {
          "base_uri": "https://localhost:8080/"
        },
        "id": "VM2NiwQj_ACG",
        "outputId": "a815b5fd-ea1b-48a7-9c68-00360522c9a4"
      },
      "execution_count": null,
      "outputs": [
        {
          "output_type": "execute_result",
          "data": {
            "text/plain": [
              "0       27/12/21 13:18\n",
              "1       25/12/21 16:58\n",
              "2       25/12/21 11:28\n",
              "3       21/12/21 18:07\n",
              "4       21/12/21 12:52\n",
              "             ...      \n",
              "1407      10/6/21 8:50\n",
              "1408      7/6/21 13:22\n",
              "1409     22/5/21 19:42\n",
              "1410      9/5/21 10:36\n",
              "1411     11/1/21 17:21\n",
              "Name: publishedDate, Length: 1412, dtype: object"
            ]
          },
          "metadata": {},
          "execution_count": 28
        }
      ]
    },
    {
      "cell_type": "code",
      "source": [
        "df2021['publishedDate'] = pd.to_datetime(df2021['publishedDate'], format='%d/%m/%y %H:%M')"
      ],
      "metadata": {
        "id": "cwQkVqur-4UE"
      },
      "execution_count": null,
      "outputs": []
    },
    {
      "cell_type": "code",
      "source": [
        "df2021['Month'] = df2021['publishedDate'].dt.to_period('M').astype(str)"
      ],
      "metadata": {
        "id": "ZsE40Qzv_ieg"
      },
      "execution_count": null,
      "outputs": []
    },
    {
      "cell_type": "code",
      "source": [
        "df2021['Date'] = df2021['publishedDate'].dt.day"
      ],
      "metadata": {
        "id": "I2hBitf6_oMG"
      },
      "execution_count": null,
      "outputs": []
    },
    {
      "cell_type": "code",
      "source": [
        "tweets = pd.crosstab(df2021['Month'], df2021['Date'].sort_values())\n",
        "\n",
        "# Draw a heatmap with the numeric values in each cell\n",
        "fig, ax = plt.subplots(figsize=(15,8))\n",
        "ax = sns.heatmap(tweets, ax=ax, annot=True, fmt='d')\n",
        "ax.set_title('Tweet Count')\n",
        "plt.show()"
      ],
      "metadata": {
        "colab": {
          "base_uri": "https://localhost:8080/",
          "height": 513
        },
        "id": "6NyqVFqR-2rW",
        "outputId": "f65fbc39-8772-48ff-e326-05cd249157c7"
      },
      "execution_count": null,
      "outputs": [
        {
          "output_type": "display_data",
          "data": {
            "image/png": "[encoded data removed]",
            "text/plain": [
              "<Figure size 1080x576 with 2 Axes>"
            ]
          },
          "metadata": {
            "needs_background": "light"
          }
        }
      ]
    },
    {
      "cell_type": "code",
      "source": [
        "df2021[(df2021['Date']==6) & (df2021['Month']=='2021-08')]['text'].values"
      ],
      "metadata": {
        "id": "TRncYaMo8vlK"
      },
      "execution_count": null,
      "outputs": []
    },
    {
      "cell_type": "markdown",
      "source": [
        "## Media"
      ],
      "metadata": {
        "id": "pkMu_HRreb2-"
      }
    },
    {
      "cell_type": "code",
      "source": [
        "df2019['media']"
      ],
      "metadata": {
        "colab": {
          "base_uri": "https://localhost:8080/"
        },
        "id": "usQMG8NlduVT",
        "outputId": "112bc51c-7c3b-4545-b2c0-ffdbf4f82ac6"
      },
      "execution_count": null,
      "outputs": [
        {
          "output_type": "execute_result",
          "data": {
            "text/plain": [
              "0       [Photo(previewUrl='https://pbs.twimg.com/media...\n",
              "1       [Photo(previewUrl='https://pbs.twimg.com/media...\n",
              "2                                                     NaN\n",
              "3       [Photo(previewUrl='https://pbs.twimg.com/media...\n",
              "4       [Photo(previewUrl='https://pbs.twimg.com/media...\n",
              "                              ...                        \n",
              "2610                                                  NaN\n",
              "2611    [Photo(previewUrl='https://pbs.twimg.com/media...\n",
              "2612    [Photo(previewUrl='https://pbs.twimg.com/media...\n",
              "2613                                                  NaN\n",
              "2614    [Photo(previewUrl='https://pbs.twimg.com/media...\n",
              "Name: media, Length: 2615, dtype: object"
            ]
          },
          "metadata": {},
          "execution_count": 27
        }
      ]
    },
    {
      "cell_type": "code",
      "source": [
        "df2021['media']"
      ],
      "metadata": {
        "colab": {
          "base_uri": "https://localhost:8080/"
        },
        "id": "G1iI6hhI6JNh",
        "outputId": "93b4ec70-1c55-4689-f6d0-f8813c4d7a82"
      },
      "execution_count": null,
      "outputs": [
        {
          "output_type": "execute_result",
          "data": {
            "text/plain": [
              "0                                                     NaN\n",
              "1                                                     NaN\n",
              "2       [Photo(previewUrl='https://pbs.twimg.com/media...\n",
              "3       [Photo(previewUrl='https://pbs.twimg.com/media...\n",
              "4                                                     NaN\n",
              "                              ...                        \n",
              "1407                                                  NaN\n",
              "1408                                                  NaN\n",
              "1409                                                  NaN\n",
              "1410                                                  NaN\n",
              "1411    [Photo(previewUrl='https://pbs.twimg.com/media...\n",
              "Name: media, Length: 1412, dtype: object"
            ]
          },
          "metadata": {},
          "execution_count": 163
        }
      ]
    },
    {
      "cell_type": "code",
      "source": [
        "df2019['has_media'] = ~df2019['media'].isna()"
      ],
      "metadata": {
        "id": "SfsWH_VQ8KsK"
      },
      "execution_count": null,
      "outputs": []
    },
    {
      "cell_type": "code",
      "source": [
        "df2021['has_media'] = ~df2021['media'].isna()"
      ],
      "metadata": {
        "id": "2-YN6c0qkh4p"
      },
      "execution_count": null,
      "outputs": []
    },
    {
      "cell_type": "code",
      "source": [
        "df2021['has_media'] = df2021['has_media'].map({True:'Yes', False:'No'})"
      ],
      "metadata": {
        "id": "g79Oo8K59Iir"
      },
      "execution_count": null,
      "outputs": []
    },
    {
      "cell_type": "code",
      "source": [
        "df2021['has_media'] = df2021['has_media'].map({True:'Yes', False:'No'})"
      ],
      "metadata": {
        "id": "cHTfVHTikisY"
      },
      "execution_count": null,
      "outputs": []
    },
    {
      "cell_type": "code",
      "source": [
        "count_tweet_by_sentiment = df2019.groupby(['sentiment', 'has_media'])['has_media'].count().to_frame('count')"
      ],
      "metadata": {
        "id": "NEpu7-l9huGg"
      },
      "execution_count": null,
      "outputs": []
    },
    {
      "cell_type": "code",
      "source": [
        "df2021['has_media']"
      ],
      "metadata": {
        "colab": {
          "base_uri": "https://localhost:8080/"
        },
        "id": "R834FJdS5zkp",
        "outputId": "92d5c00a-4d9b-43d8-9e3f-5f296587fbf9"
      },
      "execution_count": null,
      "outputs": [
        {
          "output_type": "execute_result",
          "data": {
            "text/plain": [
              "0       False\n",
              "1       False\n",
              "2        True\n",
              "3        True\n",
              "4       False\n",
              "        ...  \n",
              "1407    False\n",
              "1408    False\n",
              "1409    False\n",
              "1410    False\n",
              "1411     True\n",
              "Name: has_media, Length: 1412, dtype: bool"
            ]
          },
          "metadata": {},
          "execution_count": 165
        }
      ]
    },
    {
      "cell_type": "code",
      "source": [
        "count_tweet_by_sentiment2021 = df2021.groupby(['sentiment', 'has_media'])['has_media'].count().to_frame('count')\n",
        "count_tweet_by_sentiment2021.reset_index(inplace=True)"
      ],
      "metadata": {
        "id": "pU7bzX575Yy0"
      },
      "execution_count": null,
      "outputs": []
    },
    {
      "cell_type": "code",
      "source": [
        "count_tweet_by_sentiment2021"
      ],
      "metadata": {
        "colab": {
          "base_uri": "https://localhost:8080/",
          "height": 175
        },
        "id": "nZV4ARG25iVf",
        "outputId": "8bd6398c-f262-49d8-f3ab-9d8cc74cfde7"
      },
      "execution_count": null,
      "outputs": [
        {
          "output_type": "execute_result",
          "data": {
            "text/html": [
              "\n",
              "  <div id=\"df-4cbdaf22-eb3c-4bd9-803b-cc70738f2b3c\">\n",
              "    <div class=\"colab-df-container\">\n",
              "      <div>\n",
              "<style scoped>\n",
              "    .dataframe tbody tr th:only-of-type {\n",
              "        vertical-align: middle;\n",
              "    }\n",
              "\n",
              "    .dataframe tbody tr th {\n",
              "        vertical-align: top;\n",
              "    }\n",
              "\n",
              "    .dataframe thead th {\n",
              "        text-align: right;\n",
              "    }\n",
              "</style>\n",
              "<table border=\"1\" class=\"dataframe\">\n",
              "  <thead>\n",
              "    <tr style=\"text-align: right;\">\n",
              "      <th></th>\n",
              "      <th>sentiment</th>\n",
              "      <th>has_media</th>\n",
              "      <th>count</th>\n",
              "    </tr>\n",
              "  </thead>\n",
              "  <tbody>\n",
              "    <tr>\n",
              "      <th>0</th>\n",
              "      <td>neg</td>\n",
              "      <td>No</td>\n",
              "      <td>677</td>\n",
              "    </tr>\n",
              "    <tr>\n",
              "      <th>1</th>\n",
              "      <td>neg</td>\n",
              "      <td>Yes</td>\n",
              "      <td>647</td>\n",
              "    </tr>\n",
              "    <tr>\n",
              "      <th>2</th>\n",
              "      <td>pos</td>\n",
              "      <td>No</td>\n",
              "      <td>45</td>\n",
              "    </tr>\n",
              "    <tr>\n",
              "      <th>3</th>\n",
              "      <td>pos</td>\n",
              "      <td>Yes</td>\n",
              "      <td>35</td>\n",
              "    </tr>\n",
              "  </tbody>\n",
              "</table>\n",
              "</div>\n",
              "      <button class=\"colab-df-convert\" onclick=\"convertToInteractive('df-4cbdaf22-eb3c-4bd9-803b-cc70738f2b3c')\"\n",
              "              title=\"Convert this dataframe to an interactive table.\"\n",
              "              style=\"display:none;\">\n",
              "        \n",
              "  <svg xmlns=\"http://www.w3.org/2000/svg\" height=\"24px\"viewBox=\"0 0 24 24\"\n",
              "       width=\"24px\">\n",
              "    <path d=\"M0 0h24v24H0V0z\" fill=\"none\"/>\n",
              "    <path d=\"M18.56 5.44l.94 2.06.94-2.06 2.06-.94-2.06-.94-.94-2.06-.94 2.06-2.06.94zm-11 1L8.5 8.5l.94-2.06 2.06-.94-2.06-.94L8.5 2.5l-.94 2.06-2.06.94zm10 10l.94 2.06.94-2.06 2.06-.94-2.06-.94-.94-2.06-.94 2.06-2.06.94z\"/><path d=\"M17.41 7.96l-1.37-1.37c-.4-.4-.92-.59-1.43-.59-.52 0-1.04.2-1.43.59L10.3 9.45l-7.72 7.72c-.78.78-.78 2.05 0 2.83L4 21.41c.39.39.9.59 1.41.59.51 0 1.02-.2 1.41-.59l7.78-7.78 2.81-2.81c.8-.78.8-2.07 0-2.86zM5.41 20L4 18.59l7.72-7.72 1.47 1.35L5.41 20z\"/>\n",
              "  </svg>\n",
              "      </button>\n",
              "      \n",
              "  <style>\n",
              "    .colab-df-container {\n",
              "      display:flex;\n",
              "      flex-wrap:wrap;\n",
              "      gap: 12px;\n",
              "    }\n",
              "\n",
              "    .colab-df-convert {\n",
              "      background-color: #E8F0FE;\n",
              "      border: none;\n",
              "      border-radius: 50%;\n",
              "      cursor: pointer;\n",
              "      display: none;\n",
              "      fill: #1967D2;\n",
              "      height: 32px;\n",
              "      padding: 0 0 0 0;\n",
              "      width: 32px;\n",
              "    }\n",
              "\n",
              "    .colab-df-convert:hover {\n",
              "      background-color: #E2EBFA;\n",
              "      box-shadow: 0px 1px 2px rgba(60, 64, 67, 0.3), 0px 1px 3px 1px rgba(60, 64, 67, 0.15);\n",
              "      fill: #174EA6;\n",
              "    }\n",
              "\n",
              "    [theme=dark] .colab-df-convert {\n",
              "      background-color: #3B4455;\n",
              "      fill: #D2E3FC;\n",
              "    }\n",
              "\n",
              "    [theme=dark] .colab-df-convert:hover {\n",
              "      background-color: #434B5C;\n",
              "      box-shadow: 0px 1px 3px 1px rgba(0, 0, 0, 0.15);\n",
              "      filter: drop-shadow(0px 1px 2px rgba(0, 0, 0, 0.3));\n",
              "      fill: #FFFFFF;\n",
              "    }\n",
              "  </style>\n",
              "\n",
              "      <script>\n",
              "        const buttonEl =\n",
              "          document.querySelector('#df-4cbdaf22-eb3c-4bd9-803b-cc70738f2b3c button.colab-df-convert');\n",
              "        buttonEl.style.display =\n",
              "          google.colab.kernel.accessAllowed ? 'block' : 'none';\n",
              "\n",
              "        async function convertToInteractive(key) {\n",
              "          const element = document.querySelector('#df-4cbdaf22-eb3c-4bd9-803b-cc70738f2b3c');\n",
              "          const dataTable =\n",
              "            await google.colab.kernel.invokeFunction('convertToInteractive',\n",
              "                                                     [key], {});\n",
              "          if (!dataTable) return;\n",
              "\n",
              "          const docLinkHtml = 'Like what you see? Visit the ' +\n",
              "            '<a target=\"_blank\" href=https://colab.research.google.com/notebooks/data_table.ipynb>data table notebook</a>'\n",
              "            + ' to learn more about interactive tables.';\n",
              "          element.innerHTML = '';\n",
              "          dataTable['output_type'] = 'display_data';\n",
              "          await google.colab.output.renderOutput(dataTable, element);\n",
              "          const docLink = document.createElement('div');\n",
              "          docLink.innerHTML = docLinkHtml;\n",
              "          element.appendChild(docLink);\n",
              "        }\n",
              "      </script>\n",
              "    </div>\n",
              "  </div>\n",
              "  "
            ],
            "text/plain": [
              "  sentiment has_media  count\n",
              "0       neg        No    677\n",
              "1       neg       Yes    647\n",
              "2       pos        No     45\n",
              "3       pos       Yes     35"
            ]
          },
          "metadata": {},
          "execution_count": 183
        }
      ]
    },
    {
      "cell_type": "code",
      "source": [
        "count_tweet_by_sentiment.reset_index(inplace=True)\n",
        "count_tweet_by_sentiment"
      ],
      "metadata": {
        "colab": {
          "base_uri": "https://localhost:8080/",
          "height": 175
        },
        "id": "aNfbi0CziLBJ",
        "outputId": "f12534b6-a4b4-44d9-9632-3bef07ccdb61"
      },
      "execution_count": null,
      "outputs": [
        {
          "output_type": "execute_result",
          "data": {
            "text/html": [
              "\n",
              "  <div id=\"df-1cfda48d-24fd-418d-b7ca-0d93af88f1dd\">\n",
              "    <div class=\"colab-df-container\">\n",
              "      <div>\n",
              "<style scoped>\n",
              "    .dataframe tbody tr th:only-of-type {\n",
              "        vertical-align: middle;\n",
              "    }\n",
              "\n",
              "    .dataframe tbody tr th {\n",
              "        vertical-align: top;\n",
              "    }\n",
              "\n",
              "    .dataframe thead th {\n",
              "        text-align: right;\n",
              "    }\n",
              "</style>\n",
              "<table border=\"1\" class=\"dataframe\">\n",
              "  <thead>\n",
              "    <tr style=\"text-align: right;\">\n",
              "      <th></th>\n",
              "      <th>sentiment</th>\n",
              "      <th>has_media</th>\n",
              "      <th>count</th>\n",
              "    </tr>\n",
              "  </thead>\n",
              "  <tbody>\n",
              "    <tr>\n",
              "      <th>0</th>\n",
              "      <td>neg</td>\n",
              "      <td>No</td>\n",
              "      <td>1169</td>\n",
              "    </tr>\n",
              "    <tr>\n",
              "      <th>1</th>\n",
              "      <td>neg</td>\n",
              "      <td>Yes</td>\n",
              "      <td>967</td>\n",
              "    </tr>\n",
              "    <tr>\n",
              "      <th>2</th>\n",
              "      <td>pos</td>\n",
              "      <td>No</td>\n",
              "      <td>311</td>\n",
              "    </tr>\n",
              "    <tr>\n",
              "      <th>3</th>\n",
              "      <td>pos</td>\n",
              "      <td>Yes</td>\n",
              "      <td>148</td>\n",
              "    </tr>\n",
              "  </tbody>\n",
              "</table>\n",
              "</div>\n",
              "      <button class=\"colab-df-convert\" onclick=\"convertToInteractive('df-1cfda48d-24fd-418d-b7ca-0d93af88f1dd')\"\n",
              "              title=\"Convert this dataframe to an interactive table.\"\n",
              "              style=\"display:none;\">\n",
              "        \n",
              "  <svg xmlns=\"http://www.w3.org/2000/svg\" height=\"24px\"viewBox=\"0 0 24 24\"\n",
              "       width=\"24px\">\n",
              "    <path d=\"M0 0h24v24H0V0z\" fill=\"none\"/>\n",
              "    <path d=\"M18.56 5.44l.94 2.06.94-2.06 2.06-.94-2.06-.94-.94-2.06-.94 2.06-2.06.94zm-11 1L8.5 8.5l.94-2.06 2.06-.94-2.06-.94L8.5 2.5l-.94 2.06-2.06.94zm10 10l.94 2.06.94-2.06 2.06-.94-2.06-.94-.94-2.06-.94 2.06-2.06.94z\"/><path d=\"M17.41 7.96l-1.37-1.37c-.4-.4-.92-.59-1.43-.59-.52 0-1.04.2-1.43.59L10.3 9.45l-7.72 7.72c-.78.78-.78 2.05 0 2.83L4 21.41c.39.39.9.59 1.41.59.51 0 1.02-.2 1.41-.59l7.78-7.78 2.81-2.81c.8-.78.8-2.07 0-2.86zM5.41 20L4 18.59l7.72-7.72 1.47 1.35L5.41 20z\"/>\n",
              "  </svg>\n",
              "      </button>\n",
              "      \n",
              "  <style>\n",
              "    .colab-df-container {\n",
              "      display:flex;\n",
              "      flex-wrap:wrap;\n",
              "      gap: 12px;\n",
              "    }\n",
              "\n",
              "    .colab-df-convert {\n",
              "      background-color: #E8F0FE;\n",
              "      border: none;\n",
              "      border-radius: 50%;\n",
              "      cursor: pointer;\n",
              "      display: none;\n",
              "      fill: #1967D2;\n",
              "      height: 32px;\n",
              "      padding: 0 0 0 0;\n",
              "      width: 32px;\n",
              "    }\n",
              "\n",
              "    .colab-df-convert:hover {\n",
              "      background-color: #E2EBFA;\n",
              "      box-shadow: 0px 1px 2px rgba(60, 64, 67, 0.3), 0px 1px 3px 1px rgba(60, 64, 67, 0.15);\n",
              "      fill: #174EA6;\n",
              "    }\n",
              "\n",
              "    [theme=dark] .colab-df-convert {\n",
              "      background-color: #3B4455;\n",
              "      fill: #D2E3FC;\n",
              "    }\n",
              "\n",
              "    [theme=dark] .colab-df-convert:hover {\n",
              "      background-color: #434B5C;\n",
              "      box-shadow: 0px 1px 3px 1px rgba(0, 0, 0, 0.15);\n",
              "      filter: drop-shadow(0px 1px 2px rgba(0, 0, 0, 0.3));\n",
              "      fill: #FFFFFF;\n",
              "    }\n",
              "  </style>\n",
              "\n",
              "      <script>\n",
              "        const buttonEl =\n",
              "          document.querySelector('#df-1cfda48d-24fd-418d-b7ca-0d93af88f1dd button.colab-df-convert');\n",
              "        buttonEl.style.display =\n",
              "          google.colab.kernel.accessAllowed ? 'block' : 'none';\n",
              "\n",
              "        async function convertToInteractive(key) {\n",
              "          const element = document.querySelector('#df-1cfda48d-24fd-418d-b7ca-0d93af88f1dd');\n",
              "          const dataTable =\n",
              "            await google.colab.kernel.invokeFunction('convertToInteractive',\n",
              "                                                     [key], {});\n",
              "          if (!dataTable) return;\n",
              "\n",
              "          const docLinkHtml = 'Like what you see? Visit the ' +\n",
              "            '<a target=\"_blank\" href=https://colab.research.google.com/notebooks/data_table.ipynb>data table notebook</a>'\n",
              "            + ' to learn more about interactive tables.';\n",
              "          element.innerHTML = '';\n",
              "          dataTable['output_type'] = 'display_data';\n",
              "          await google.colab.output.renderOutput(dataTable, element);\n",
              "          const docLink = document.createElement('div');\n",
              "          docLink.innerHTML = docLinkHtml;\n",
              "          element.appendChild(docLink);\n",
              "        }\n",
              "      </script>\n",
              "    </div>\n",
              "  </div>\n",
              "  "
            ],
            "text/plain": [
              "  sentiment has_media  count\n",
              "0       neg        No   1169\n",
              "1       neg       Yes    967\n",
              "2       pos        No    311\n",
              "3       pos       Yes    148"
            ]
          },
          "metadata": {},
          "execution_count": 125
        }
      ]
    },
    {
      "cell_type": "code",
      "source": [],
      "metadata": {
        "id": "JWeHPEAk5xzb"
      },
      "execution_count": null,
      "outputs": []
    },
    {
      "cell_type": "code",
      "source": [
        "sns.set_palette('RdBu')\n",
        "\n",
        "g = sns.catplot(\n",
        "    data=count_tweet_by_sentiment2021, kind=\"bar\",\n",
        "    x=\"sentiment\", y='count', hue=\"has_media\",\n",
        "    ci=None, height=6, hue_order=['Yes', 'No']\n",
        ")\n",
        "g.set_axis_labels(\"Sentiment\", \"# Tweets\")\n",
        "plt.show()"
      ],
      "metadata": {
        "colab": {
          "base_uri": "https://localhost:8080/",
          "height": 441
        },
        "id": "9rGkxQRnetQd",
        "outputId": "c26a6b20-2699-4bad-eafa-5e348e41c5c8"
      },
      "execution_count": null,
      "outputs": [
        {
          "output_type": "display_data",
          "data": {
            "image/png": "[encoded data removed]",
            "text/plain": [
              "<Figure size 493.875x432 with 1 Axes>"
            ]
          },
          "metadata": {
            "needs_background": "light"
          }
        }
      ]
    },
    {
      "cell_type": "code",
      "source": [
        "sns.set_palette('RdBu')\n",
        "\n",
        "g = sns.catplot(\n",
        "    data=count_tweet_by_sentiment, kind=\"bar\",\n",
        "    x=\"sentiment\", y='count', hue=\"has_media\",\n",
        "    ci=None, height=6, hue_order=['Yes', 'No']\n",
        ")\n",
        "g.set_axis_labels(\"Sentiment\", \"# Tweets\")\n",
        "plt.show()"
      ],
      "metadata": {
        "id": "zihNafT95VQA"
      },
      "execution_count": null,
      "outputs": []
    },
    {
      "cell_type": "code",
      "source": [
        "sns.set_palette('RdBu')\n",
        "\n",
        "g = sns.catplot(\n",
        "    data=count_tweet_by_sentiment, kind=\"bar\",\n",
        "    x=\"sentiment\", y='count', hue=\"has_media\",\n",
        "    ci=None, height=6, hue_order=['Yes', 'No']\n",
        ")\n",
        "g.set_axis_labels(\"Sentiment\", \"# Tweets\")\n",
        "plt.show()"
      ],
      "metadata": {
        "id": "6fHubQOj2aWi"
      },
      "execution_count": null,
      "outputs": []
    },
    {
      "cell_type": "code",
      "source": [
        "fig, ax = plt.subplots()\n",
        "\n",
        "labels = ['pos', 'neg']\n",
        "has_media = [967, 1169]\n",
        "has_nomedia = [148, 311]\n",
        "width = 0.2\n",
        "\n",
        "ax.bar(labels, has_media, width, label='has_media')\n",
        "ax.bar(labels, has_nomedia, width, bottom=has_media,\n",
        "       label='has_nomedia')\n",
        "\n",
        "ax.set_ylabel('Count')\n",
        "ax.set_title('Count Tweet By Sentiment')\n",
        "ax.legend()\n",
        "\n",
        "plt.show()"
      ],
      "metadata": {
        "colab": {
          "base_uri": "https://localhost:8080/",
          "height": 284
        },
        "id": "fnjTfFU4g2EM",
        "outputId": "0e8dcdd8-1afc-4111-e895-db6da19076ac"
      },
      "execution_count": null,
      "outputs": [
        {
          "output_type": "display_data",
          "data": {
            "image/png": "[encoded data removed]",
            "text/plain": [
              "<Figure size 432x288 with 1 Axes>"
            ]
          },
          "metadata": {}
        }
      ]
    },
    {
      "cell_type": "code",
      "source": [
        "df2019.columns\n"
      ],
      "metadata": {
        "colab": {
          "base_uri": "https://localhost:8080/"
        },
        "id": "jiwr1q6Cll5p",
        "outputId": "ccc78ea6-af04-485a-bfa1-1bc92fbf5872"
      },
      "execution_count": null,
      "outputs": [
        {
          "output_type": "execute_result",
          "data": {
            "text/plain": [
              "Index(['Column1', 'publishedDate', 'tweet_id', 'text', 'sentiment', 'username',\n",
              "       'user_followerCount', 'replyCount', 'retweetCount', 'likeCount',\n",
              "       'quoteCount', 'outlinks', 'media', 'quotedTweet', 'mentionedUsers',\n",
              "       'hashtags', 'length', '#hashtag', 'Day', 'Month', 'Date', 'has_media'],\n",
              "      dtype='object')"
            ]
          },
          "metadata": {},
          "execution_count": 34
        }
      ]
    },
    {
      "cell_type": "code",
      "source": [
        "df2021.columns"
      ],
      "metadata": {
        "colab": {
          "base_uri": "https://localhost:8080/"
        },
        "id": "d40hSALXlsXt",
        "outputId": "cd3f76b6-e06d-43cd-e941-2a316b106ba0"
      },
      "execution_count": null,
      "outputs": [
        {
          "output_type": "execute_result",
          "data": {
            "text/plain": [
              "Index(['Column1', 'publishedDate', 'tweet_id', 'text', 'pos_neg', 'username',\n",
              "       'user_followerCount', 'replyCount', 'retweetCount', 'likeCount',\n",
              "       'quoteCount', 'outlinks', 'media', 'quotedTweet', 'mentionedUsers',\n",
              "       'hashtags', 'length', '#hashtag', 'Month', 'Date', 'has_media', 'Day'],\n",
              "      dtype='object')"
            ]
          },
          "metadata": {},
          "execution_count": 38
        }
      ]
    },
    {
      "cell_type": "code",
      "source": [
        "df2019.to_csv('/content/drive/MyDrive/DS-project/df2019.csv')"
      ],
      "metadata": {
        "id": "g1oN2LEwj507"
      },
      "execution_count": null,
      "outputs": []
    },
    {
      "cell_type": "code",
      "source": [
        "df2021.to_csv('/content/drive/MyDrive/DS-project/df2021.csv')"
      ],
      "metadata": {
        "id": "hPxO7xIBmI49"
      },
      "execution_count": null,
      "outputs": []
    },
    {
      "cell_type": "markdown",
      "source": [
        "## Variable"
      ],
      "metadata": {
        "id": "vUJsGuWc31E8"
      }
    },
    {
      "cell_type": "code",
      "source": [
        "df2019.columnslen()"
      ],
      "metadata": {
        "colab": {
          "base_uri": "https://localhost:8080/"
        },
        "id": "uqIpdFNU38Or",
        "outputId": "35576d41-548f-4ea3-d882-fbf285004bae"
      },
      "execution_count": null,
      "outputs": [
        {
          "output_type": "execute_result",
          "data": {
            "text/plain": [
              "22"
            ]
          },
          "metadata": {},
          "execution_count": 106
        }
      ]
    },
    {
      "cell_type": "code",
      "source": [
        "df2019.columns"
      ],
      "metadata": {
        "colab": {
          "base_uri": "https://localhost:8080/"
        },
        "id": "SQfrgw_O4L27",
        "outputId": "e67dedeb-32a9-419e-bfef-111d6bd5f80b"
      },
      "execution_count": null,
      "outputs": [
        {
          "output_type": "execute_result",
          "data": {
            "text/plain": [
              "Index(['Column1', 'publishedDate', 'tweet_id', 'text', 'pos_neg', 'username',\n",
              "       'user_followerCount', 'replyCount', 'retweetCount', 'likeCount',\n",
              "       'quoteCount', 'outlinks', 'media', 'quotedTweet', 'mentionedUsers',\n",
              "       'hashtags', 'length', '#hashtag', 'Month', 'Date', 'has_media', 'Day'],\n",
              "      dtype='object')"
            ]
          },
          "metadata": {},
          "execution_count": 37
        }
      ]
    },
    {
      "cell_type": "code",
      "source": [],
      "metadata": {
        "id": "ctiCbNBA4ac1"
      },
      "execution_count": null,
      "outputs": []
    },
    {
      "cell_type": "markdown",
      "source": [
        "## Detect คำหยาบ"
      ],
      "metadata": {
        "id": "l6XH_z9Ajv3E"
      }
    },
    {
      "cell_type": "code",
      "source": [
        "bad_word = 'อีดอก อิดอก อีดก อิดก แม่ง ห่า เหี้ย ควย ควาย \\\n",
        "ดอก ห่วย มึง มึ๊ง มุง เมิง ดีออก สันดาน สัส สัด สึด สัตว์ สาส ส้นตีน ส้นทีน อีเวน อีเวร อีเวง \\\n",
        "อิเวน อิเวร ห่วยแตก เฮงซวย เวรกรรม เวนกรรม โง่ ฉลาดน้อย บ้า เกลียด หี กี แตด ฉิบหาย เชี่ย \\\n",
        "ไอ้ หอย แม่เย็ด พ่อง พ่อมึง ไอ่ หน้าด้าน ชิบหาย ทุเรศ ประสาทแดก ปสด สันดาน สันดาร อิสันขวาน \\\n",
        "อีสันขวาน อิควัย ชุ่ย ชิป กวนตีน WTF อิเหิ้ย อีเหิ้ย ตีน ตรู ตู '"
      ],
      "metadata": {
        "id": "mPFr2p5dmtpG"
      },
      "execution_count": null,
      "outputs": []
    },
    {
      "cell_type": "code",
      "source": [
        "bad_word = bad_word.split()"
      ],
      "metadata": {
        "id": "-RmPkZulnbgg"
      },
      "execution_count": null,
      "outputs": []
    },
    {
      "cell_type": "code",
      "source": [
        "bad_word"
      ],
      "metadata": {
        "colab": {
          "base_uri": "https://localhost:8080/"
        },
        "id": "FNNiQIZe3TE8",
        "outputId": "25bd2256-c119-4ec0-867f-d3bb3740d72e"
      },
      "execution_count": null,
      "outputs": [
        {
          "output_type": "execute_result",
          "data": {
            "text/plain": [
              "['อีดอก',\n",
              " 'อิดอก',\n",
              " 'อีดก',\n",
              " 'อิดก',\n",
              " 'แม่ง',\n",
              " 'ห่า',\n",
              " 'เหี้ย',\n",
              " 'ควย',\n",
              " 'ควาย',\n",
              " 'ดอก',\n",
              " 'ห่วย',\n",
              " 'มึง',\n",
              " 'มึ๊ง',\n",
              " 'มุง',\n",
              " 'เมิง',\n",
              " 'ดีออก',\n",
              " 'สันดาน',\n",
              " 'สัส',\n",
              " 'สัด',\n",
              " 'สึด',\n",
              " 'สัตว์',\n",
              " 'สาส',\n",
              " 'ส้นตีน',\n",
              " 'ส้นทีน',\n",
              " 'อีเวน',\n",
              " 'อีเวร',\n",
              " 'อีเวง',\n",
              " 'อิเวน',\n",
              " 'อิเวร',\n",
              " 'ห่วยแตก',\n",
              " 'เฮงซวย',\n",
              " 'เวรกรรม',\n",
              " 'เวนกรรม',\n",
              " 'โง่',\n",
              " 'ฉลาดน้อย',\n",
              " 'บ้า',\n",
              " 'เกลียด',\n",
              " 'หี',\n",
              " 'กี',\n",
              " 'แตด',\n",
              " 'ฉิบหาย',\n",
              " 'เชี่ย',\n",
              " 'ไอ้',\n",
              " 'หอย',\n",
              " 'แม่เย็ด',\n",
              " 'พ่อง',\n",
              " 'พ่อมึง',\n",
              " 'ไอ่',\n",
              " 'หน้าด้าน',\n",
              " 'ชิบหาย',\n",
              " 'ทุเรศ',\n",
              " 'ประสาทแดก',\n",
              " 'ปสด',\n",
              " 'สันดาน',\n",
              " 'สันดาร',\n",
              " 'อิสันขวาน',\n",
              " 'อีสันขวาน',\n",
              " 'อิควัย',\n",
              " 'ชุ่ย',\n",
              " 'ชิป',\n",
              " 'กวนตีน',\n",
              " 'WTF',\n",
              " 'อิเหิ้ย',\n",
              " 'อีเหิ้ย',\n",
              " 'ตีน',\n",
              " 'ตรู',\n",
              " 'ตู']"
            ]
          },
          "metadata": {},
          "execution_count": 191
        }
      ]
    },
    {
      "cell_type": "code",
      "source": [
        "df2019['has_bad_word'] = df2019['text'].str.contains('|'.join(bad_word))"
      ],
      "metadata": {
        "id": "RYdrRnQan2KV"
      },
      "execution_count": null,
      "outputs": []
    },
    {
      "cell_type": "code",
      "source": [
        "df2021['has_bad_word'] = df2019['text'].str.contains('|'.join(bad_word))"
      ],
      "metadata": {
        "id": "d5DHGGkjtxVt"
      },
      "execution_count": null,
      "outputs": []
    },
    {
      "cell_type": "code",
      "source": [
        "df2019.to_csv('/content/drive/MyDrive/DS-project/df2019.csv')\n",
        "df2021.to_csv('/content/drive/MyDrive/DS-project/df2021.csv')"
      ],
      "metadata": {
        "id": "5kVVRINDt8m8"
      },
      "execution_count": null,
      "outputs": []
    },
    {
      "cell_type": "code",
      "source": [
        "df2019[['text','has_bad_word']][:20].values"
      ],
      "metadata": {
        "colab": {
          "base_uri": "https://localhost:8080/"
        },
        "id": "xfQ2DkzQno6w",
        "outputId": "d7b10158-32ea-4838-f486-f620c1787d2f"
      },
      "execution_count": null,
      "outputs": [
        {
          "output_type": "execute_result",
          "data": {
            "text/plain": [
              "array([['ส่งวันศุกร์ วันจันทร์ยังไม่ได้ แล้วใช้ 31เอาไงคะ #ไปรษณีย์ไทย #ปณ',\n",
              "        False],\n",
              "       ['ลืมว่าเขตบ้านกุมันห่วยเพราะไม่เคยใช้บริการนานแล้วเลยไม่ได้บอกคนขายว่าอย่าส่ง #ไปรษณีย์ไทย ขณะที่เอาเลขของอีกคนที่ซื้อพร้อมกันไปเช็คเขาได้ของนานแล้ว นี่ติดปีใหม่อีก บัตรวอลเลย์บอลกุ... จะมี #EMS เพื่อไร #ศปศรีราชา #ไปรษณีย์อ่าวอุดม ห่วยแค่ไหนดูรีวิวในกู๋เอา',\n",
              "        True],\n",
              "       ['มาค่ะมีเรื่องให้กรี๊ดทุกรอบที่ใช้บริการ รอบนี้ส่งตั้งแต่23/12/19 จนวันนี้ของยังอยู่ที่เดิม #ไปรษณีย์ไทย',\n",
              "        False],\n",
              "       ['เรียน  บนซองก็เขียนนะคะว่าอย่าพับจริงอยู่ว่าอาจไม่ใช่ของที่มีราคามากมาย แต่ถ้าในซองอื่นๆที่เป็นเอกสารสำคัญหรือสินค้าที่มีมูลค่าล่ะคะ การเสียหายที่เกิดขึ้นใครรับผิดชอบ อยากให้ใส่ใจกับงานให้มากขึ้นกว่านี้ค่ะ เริ่มพัฒนามาสู้แล้วก็เพิ่มความใส่ใจอีกนิดนะคะ #ไปรษณีย์ไทย',\n",
              "        False],\n",
              "       ['ถ้าถามว่าดีไหมก็ดีค่ะอุดหนุนไปรษณีย์ไทยตลอด ลงทะเบียน2-3วันถึง แล้วส่วนมากems ของถึงภายใน24ชม. ประทับใจ แต่นี้จะหยุดปีใหม่ก็ควรรีบๆส่งนะคะ เผื่อใครจะต้องใช้จิงๆ ไม่ไหวจิงๆ หรือเว็ปมีปัญหาคะ โดยรวมก็ดีแต่ครั้งนี้ไม่ไหวอะ ยอมจ่ายems เพราะกลัวไม่ทันปีใหม่สรุปอาจจะโดนดอง #ไปรษณีย์ไทย',\n",
              "        False],\n",
              "       ['ของตั้งแต่วันที่25 ยังไม่ได้ ขับเกวียนมาส่งแน่เลยอะ #ไปรษณีย์ไทย',\n",
              "        False],\n",
              "       ['ยังจะปรับปรุงการทำงานได้หรอถามจิงปัญหาเกิดกันหลายคนมาก ไปใช้บริการอื่น #ไปรษณีย์ไทย',\n",
              "        False],\n",
              "       ['คือตามของมาชาตินึงละ ems อาจจะส่งให้อีกสามปีข้างหน้าทำงานกันยังไง คือโมโหมากไม่รู้ของไปอยู่ตรงไหน ใครจะใช้บริการส่งด่วนอย่าหปใช้นะ เตือนเลยทำงานไม่ดี ไปส่งของอย่างอื่น #ไปรษณีย์ไทย #ems',\n",
              "        False],\n",
              "       ['ได้ทันหยุดปีใหม่ไหมหนอจะทันหรือป่าวจะทันไหมหนอจะทันหรือป่าว  อุส่าเสียค่าส่งems แล้วมาดูกัน จะดองของหรือเปล่า #ไปรษณีย์ไทย',\n",
              "        False],\n",
              "       ['เคาร์เตอร์ มี 6 ช่อง เปิด2 ช่อง กุกดบัตรจำนวนคิว=0 ไม่มีใครกดเรียกกุสักคน ไอ่เหี้ย  #ไปรษณีย์ไทย',\n",
              "        True],\n",
              "       ['รีวิว #ไปรษณีย์ไทย คงเส้นคงวารักษามาตราฐานมากค่าา', False],\n",
              "       ['Ems ไทยอะใครจะใช้บริการขอให้คิดดีๆเลยนะ ส่งของด่วนๆมีบริการอื่นๆดีๆอีกเยอะเลย คือ Ems ทำงานแย่มากสั่งของไปตั้งแต่วันที่ 25 วันนี้ควรจะได้ของแล้วแต่นี่คือไม่ได้โทไปหาเกือบ60สายรับประมาณ5ครั้ง แล้วตอนนี้ไม่รู้ว่าของหายไปอีกรึเปล่า #ไปรษณีย์ไทย',\n",
              "        False],\n",
              "       ['โอนเงินให้แม่ค้าเก้าโมง เก้าโมงกว่าเค้าไปส่ง ems ให้ 16.56 คือของมาถึงแล้ว ไวมากแม่ จากกทมมาปทุม #ไปรษณีย์ไทย',\n",
              "        False],\n",
              "       ['ส่งของไวมากค่ะ ลงทะเบียน 3 วัน ตอนแรกนึกว่าจะติดปีใหม่ ขอบคุณนะคะ ☺️ #ไปรษณีย์ไทย',\n",
              "        False],\n",
              "       ['ขอโทษนะ คิอถ้าของจะนานจะขนาด โทรไปก็ไม่มีใครรับสาย ตั้งแต่เช้า โทรจนตอนนี้ ข้อความก็ส่ง จะส่งของตอนใหน นี่จะหยุดยาวอีก สนใจหน่อยค่าาาาาาาาาาา #ไปรษณีย์ไทย',\n",
              "        False],\n",
              "       ['ข้องใจในสถานะของ #ไปรษณีย์ไทย มากค่ะ ใครเข้าใจช่วยอธิบายที คือเค้าไปบ้านใครเหรอถึงนำจ่ายไม่สำเร็จ หรือเผลอสแกนกล่องผิดที่หน้าบ้านอื่น นี่อยู่กันทั้งบ้าน-ทั้งวัน ยิ่งช่วงบ่าย 2 คือพ่อล้างรถอยู่หน้าบ้านด้วยซ้ำ งง?!? 🤔',\n",
              "        True],\n",
              "       ['#ไปรษณีย์ไทย  ยอมจ่ายแพงหน่อยเพือให้ได้ของก่อนปีใหม่ปรากฎว่า 55555 ไปรเล่นฉันแล้วค่ะ พี่ซึงอูคะอุปสรรคที่กีดขวางเราน้องจะเลิกใช้แล้วเลือกส่งเเต่เคอร์รี่ขอโทดนะคะพี่หนูเต้มที่เเล้วจริงๆ',\n",
              "        True],\n",
              "       ['ถ้ามาส่งแล้วคนอื่นมารับกะว่าไปอย่าง นี่ไปรับเองงง อยู่ดีๆใครก็ไปรับของเองก็ได้หรออ..หมาแมวที่ไหนไม่รู้ บัตรก็ไม่ได้ตังก็เสียยย!! ไม่ใช่สมัครฟรีๆ  เลิกใช้บริการมันสักที #ไปรษณีย์ไทย ห่วยยแตกก อิคว..่ย',\n",
              "        True],\n",
              "       ['สมัครบัตร #KBankxBLACKPINK ไปรอบัตรมา15วัน สรุปไม่ได้  พึ่งมาเช็คเลขEMS บอกอี #คุณวีภาวี มารับไปแล้ว มารับที่ ปณ.เองด้วย  คำถามขึ้นในหัวทันที อี #คุณวิภาวี มันคือใคร??? แล้วอี #ไปรษณีย์ไทย ให้ของไม่ดูชื่อเจ้าของ อ่านหนังสือไม่ออกมั้งงง',\n",
              "        False],\n",
              "       ['วันนี้เอาซองส.ค.ส ไปยื่นให้ไปรษณีย์มา พนักงานเรียกกลับไปบอกว่ายังไม่ได้ติดแสตมป์เลย นี่เลยถามว่าอ่าวไม่ได้ส่งฟรีหรอคะ เค้าบอกไม่ฟรีๆต้องไปติดแสตมป์มาก่อนตกลงส่งฟรีไม่ฟรีอะงง? แล้วพนักงานคือปฏิเสธหัวชนฝาเลยไม่ฟรีๆๆ #ไปรษณีย์ไทย',\n",
              "        False]], dtype=object)"
            ]
          },
          "metadata": {},
          "execution_count": 151
        }
      ]
    },
    {
      "cell_type": "code",
      "source": [
        "df2019['has_bad_word'].value_counts()"
      ],
      "metadata": {
        "colab": {
          "base_uri": "https://localhost:8080/"
        },
        "id": "5eErjNBSo9c9",
        "outputId": "7f4dca7d-345e-46e6-81af-7ec766616d00"
      },
      "execution_count": null,
      "outputs": [
        {
          "output_type": "execute_result",
          "data": {
            "text/plain": [
              "False    1620\n",
              "True      995\n",
              "Name: has_bad_word, dtype: int64"
            ]
          },
          "metadata": {},
          "execution_count": 144
        }
      ]
    },
    {
      "cell_type": "code",
      "source": [
        "df2019['has_bad_word'] = df2019['has_bad_word'].map({True:'Yes', False:'No'})"
      ],
      "metadata": {
        "id": "f-ia92DdokvR"
      },
      "execution_count": null,
      "outputs": []
    },
    {
      "cell_type": "code",
      "source": [
        "df2021['has_bad_word'] = df2021['has_bad_word'].map({True:'Yes', False:'No'})"
      ],
      "metadata": {
        "id": "rFsLtZhat0Np"
      },
      "execution_count": null,
      "outputs": []
    },
    {
      "cell_type": "code",
      "source": [
        "df2019[(df2019['has_bad_word'] == True) & (df2019['sentiment'] == 'neg')]['sentiment'].value_counts()"
      ],
      "metadata": {
        "colab": {
          "base_uri": "https://localhost:8080/"
        },
        "id": "EqO5BIMFxcCt",
        "outputId": "8021efa1-177d-4f49-cad2-1d8ce97fcf1d"
      },
      "execution_count": null,
      "outputs": [
        {
          "output_type": "execute_result",
          "data": {
            "text/plain": [
              "neg    1076\n",
              "Name: sentiment, dtype: int64"
            ]
          },
          "metadata": {},
          "execution_count": 108
        }
      ]
    },
    {
      "cell_type": "code",
      "source": [
        "count_sentiment_by_bad_word = df2019.groupby('sentiment')['has_bad_word'].count().to_frame('count').reset_index()\n",
        "count_sentiment_by_bad_word"
      ],
      "metadata": {
        "colab": {
          "base_uri": "https://localhost:8080/",
          "height": 112
        },
        "id": "DQEHsMOSrE4a",
        "outputId": "8d0b440e-e13e-47ee-caf9-2a4d12d7f000"
      },
      "execution_count": null,
      "outputs": [
        {
          "output_type": "execute_result",
          "data": {
            "text/html": [
              "\n",
              "  <div id=\"df-79a4ac5b-8175-4434-9c9f-899c5490609a\">\n",
              "    <div class=\"colab-df-container\">\n",
              "      <div>\n",
              "<style scoped>\n",
              "    .dataframe tbody tr th:only-of-type {\n",
              "        vertical-align: middle;\n",
              "    }\n",
              "\n",
              "    .dataframe tbody tr th {\n",
              "        vertical-align: top;\n",
              "    }\n",
              "\n",
              "    .dataframe thead th {\n",
              "        text-align: right;\n",
              "    }\n",
              "</style>\n",
              "<table border=\"1\" class=\"dataframe\">\n",
              "  <thead>\n",
              "    <tr style=\"text-align: right;\">\n",
              "      <th></th>\n",
              "      <th>sentiment</th>\n",
              "      <th>count</th>\n",
              "    </tr>\n",
              "  </thead>\n",
              "  <tbody>\n",
              "    <tr>\n",
              "      <th>0</th>\n",
              "      <td>neg</td>\n",
              "      <td>2136</td>\n",
              "    </tr>\n",
              "    <tr>\n",
              "      <th>1</th>\n",
              "      <td>pos</td>\n",
              "      <td>459</td>\n",
              "    </tr>\n",
              "  </tbody>\n",
              "</table>\n",
              "</div>\n",
              "      <button class=\"colab-df-convert\" onclick=\"convertToInteractive('df-79a4ac5b-8175-4434-9c9f-899c5490609a')\"\n",
              "              title=\"Convert this dataframe to an interactive table.\"\n",
              "              style=\"display:none;\">\n",
              "        \n",
              "  <svg xmlns=\"http://www.w3.org/2000/svg\" height=\"24px\"viewBox=\"0 0 24 24\"\n",
              "       width=\"24px\">\n",
              "    <path d=\"M0 0h24v24H0V0z\" fill=\"none\"/>\n",
              "    <path d=\"M18.56 5.44l.94 2.06.94-2.06 2.06-.94-2.06-.94-.94-2.06-.94 2.06-2.06.94zm-11 1L8.5 8.5l.94-2.06 2.06-.94-2.06-.94L8.5 2.5l-.94 2.06-2.06.94zm10 10l.94 2.06.94-2.06 2.06-.94-2.06-.94-.94-2.06-.94 2.06-2.06.94z\"/><path d=\"M17.41 7.96l-1.37-1.37c-.4-.4-.92-.59-1.43-.59-.52 0-1.04.2-1.43.59L10.3 9.45l-7.72 7.72c-.78.78-.78 2.05 0 2.83L4 21.41c.39.39.9.59 1.41.59.51 0 1.02-.2 1.41-.59l7.78-7.78 2.81-2.81c.8-.78.8-2.07 0-2.86zM5.41 20L4 18.59l7.72-7.72 1.47 1.35L5.41 20z\"/>\n",
              "  </svg>\n",
              "      </button>\n",
              "      \n",
              "  <style>\n",
              "    .colab-df-container {\n",
              "      display:flex;\n",
              "      flex-wrap:wrap;\n",
              "      gap: 12px;\n",
              "    }\n",
              "\n",
              "    .colab-df-convert {\n",
              "      background-color: #E8F0FE;\n",
              "      border: none;\n",
              "      border-radius: 50%;\n",
              "      cursor: pointer;\n",
              "      display: none;\n",
              "      fill: #1967D2;\n",
              "      height: 32px;\n",
              "      padding: 0 0 0 0;\n",
              "      width: 32px;\n",
              "    }\n",
              "\n",
              "    .colab-df-convert:hover {\n",
              "      background-color: #E2EBFA;\n",
              "      box-shadow: 0px 1px 2px rgba(60, 64, 67, 0.3), 0px 1px 3px 1px rgba(60, 64, 67, 0.15);\n",
              "      fill: #174EA6;\n",
              "    }\n",
              "\n",
              "    [theme=dark] .colab-df-convert {\n",
              "      background-color: #3B4455;\n",
              "      fill: #D2E3FC;\n",
              "    }\n",
              "\n",
              "    [theme=dark] .colab-df-convert:hover {\n",
              "      background-color: #434B5C;\n",
              "      box-shadow: 0px 1px 3px 1px rgba(0, 0, 0, 0.15);\n",
              "      filter: drop-shadow(0px 1px 2px rgba(0, 0, 0, 0.3));\n",
              "      fill: #FFFFFF;\n",
              "    }\n",
              "  </style>\n",
              "\n",
              "      <script>\n",
              "        const buttonEl =\n",
              "          document.querySelector('#df-79a4ac5b-8175-4434-9c9f-899c5490609a button.colab-df-convert');\n",
              "        buttonEl.style.display =\n",
              "          google.colab.kernel.accessAllowed ? 'block' : 'none';\n",
              "\n",
              "        async function convertToInteractive(key) {\n",
              "          const element = document.querySelector('#df-79a4ac5b-8175-4434-9c9f-899c5490609a');\n",
              "          const dataTable =\n",
              "            await google.colab.kernel.invokeFunction('convertToInteractive',\n",
              "                                                     [key], {});\n",
              "          if (!dataTable) return;\n",
              "\n",
              "          const docLinkHtml = 'Like what you see? Visit the ' +\n",
              "            '<a target=\"_blank\" href=https://colab.research.google.com/notebooks/data_table.ipynb>data table notebook</a>'\n",
              "            + ' to learn more about interactive tables.';\n",
              "          element.innerHTML = '';\n",
              "          dataTable['output_type'] = 'display_data';\n",
              "          await google.colab.output.renderOutput(dataTable, element);\n",
              "          const docLink = document.createElement('div');\n",
              "          docLink.innerHTML = docLinkHtml;\n",
              "          element.appendChild(docLink);\n",
              "        }\n",
              "      </script>\n",
              "    </div>\n",
              "  </div>\n",
              "  "
            ],
            "text/plain": [
              "  sentiment  count\n",
              "0       neg   2136\n",
              "1       pos    459"
            ]
          },
          "metadata": {},
          "execution_count": 100
        }
      ]
    },
    {
      "cell_type": "code",
      "source": [
        "df2019['sentiment'].value_counts()"
      ],
      "metadata": {
        "colab": {
          "base_uri": "https://localhost:8080/"
        },
        "id": "evrom0unxL_a",
        "outputId": "9bdc8522-e55e-43db-f55e-4c3b35eaa950"
      },
      "execution_count": null,
      "outputs": [
        {
          "output_type": "execute_result",
          "data": {
            "text/plain": [
              "neg    2136\n",
              "pos     459\n",
              "Name: sentiment, dtype: int64"
            ]
          },
          "metadata": {},
          "execution_count": 104
        }
      ]
    },
    {
      "cell_type": "code",
      "source": [
        "df2021['has_bad_word'].value_counts()"
      ],
      "metadata": {
        "colab": {
          "base_uri": "https://localhost:8080/"
        },
        "id": "ZZidwt_Iwc1n",
        "outputId": "7651105f-c466-4b3b-df5c-f516d90d4946"
      },
      "execution_count": null,
      "outputs": [
        {
          "output_type": "execute_result",
          "data": {
            "text/plain": [
              "False    770\n",
              "True     642\n",
              "Name: has_bad_word, dtype: int64"
            ]
          },
          "metadata": {},
          "execution_count": 102
        }
      ]
    },
    {
      "cell_type": "code",
      "source": [
        "g = sns.catplot(\n",
        "    data=count_sentiment_by_bad_word, kind=\"bar\",\n",
        "    x=\"sentiment\", y='count', palette=['']\n",
        "    ci=None, height=6\n",
        ")\n",
        "g.set_axis_labels(\"Sentiment\", \"# Bad Word\")\n",
        "\n",
        "plt.show()"
      ],
      "metadata": {
        "colab": {
          "base_uri": "https://localhost:8080/",
          "height": 441
        },
        "id": "ykOWOkwxphT1",
        "outputId": "5cec7bab-d15b-41c6-9d1d-04d8e15941d1"
      },
      "execution_count": null,
      "outputs": [
        {
          "output_type": "display_data",
          "data": {
            "image/png": "[encoded data removed]",
            "text/plain": [
              "<Figure size 432x432 with 1 Axes>"
            ]
          },
          "metadata": {
            "needs_background": "light"
          }
        }
      ]
    },
    {
      "cell_type": "code",
      "source": [],
      "metadata": {
        "id": "F6NI7SQ8wR7p"
      },
      "execution_count": null,
      "outputs": []
    },
    {
      "cell_type": "code",
      "source": [
        "import matplotlib.pyplot as plt\n",
        "import numpy as np\n",
        "\n",
        "\n",
        "labels = ['neg', 'pos']\n",
        "sentiment_by_bad_word = [1076 ,221]\n",
        "by_sentiment_all = [2136, 459]\n",
        "\n",
        "width = 0.35  # the width of the bars\n",
        "\n",
        "fig, ax = plt.subplots()\n",
        "rects1 = ax.bar(labels, sentiment_by_bad_word, width)\n",
        "rects2 = ax.bar(labels, by_sentiment_all, width)\n",
        "\n",
        "# Add some text for labels, title and custom x-axis tick labels, etc.\n",
        "ax.set_ylabel('# Tweet')\n",
        "ax.set_title('Sentiment')\n",
        "ax.legend()\n",
        "\n",
        "fig.tight_layout()\n",
        "\n",
        "plt.show()"
      ],
      "metadata": {
        "colab": {
          "base_uri": "https://localhost:8080/",
          "height": 315
        },
        "id": "U63AmbXvpygR",
        "outputId": "fd9cf1f0-6e63-4fbc-c2cf-290b33efc67d"
      },
      "execution_count": null,
      "outputs": [
        {
          "output_type": "stream",
          "name": "stderr",
          "text": [
            "No handles with labels found to put in legend.\n"
          ]
        },
        {
          "output_type": "display_data",
          "data": {
            "image/png": "[encoded data removed]",
            "text/plain": [
              "<Figure size 432x288 with 1 Axes>"
            ]
          },
          "metadata": {
            "needs_background": "light"
          }
        }
      ]
    },
    {
      "cell_type": "code",
      "source": [
        "fig, ax = plt.subplots()\n",
        "\n",
        "labels = ['pos', 'neg']\n",
        "has_media = [967, 1169]\n",
        "has_nomedia = [148, 311]\n",
        "width = 0.2\n",
        "\n",
        "ax.bar(labels, has_media, width, label='has_media')\n",
        "ax.bar(labels has_nomedia, width, bottom=has_media,\n",
        "       label='has_nomedia')\n",
        "\n",
        "ax.set_ylabel('Count')\n",
        "ax.set_title('Count Tweet By Sentiment')\n",
        "ax.legend()\n",
        "\n",
        "plt.show("
      ],
      "metadata": {
        "id": "4IFiXUw8zLqx"
      },
      "execution_count": null,
      "outputs": []
    },
    {
      "cell_type": "code",
      "source": [
        "df2019"
      ],
      "metadata": {
        "colab": {
          "base_uri": "https://localhost:8080/",
          "height": 1000
        },
        "id": "d6dV-2TUyjJY",
        "outputId": "b9ac127d-44c9-4881-c905-1450ccc079b8"
      },
      "execution_count": null,
      "outputs": [
        {
          "output_type": "execute_result",
          "data": {
            "text/html": [
              "\n",
              "  <div id=\"df-a365dd52-1fae-4692-b7be-7a94dbac5854\">\n",
              "    <div class=\"colab-df-container\">\n",
              "      <div>\n",
              "<style scoped>\n",
              "    .dataframe tbody tr th:only-of-type {\n",
              "        vertical-align: middle;\n",
              "    }\n",
              "\n",
              "    .dataframe tbody tr th {\n",
              "        vertical-align: top;\n",
              "    }\n",
              "\n",
              "    .dataframe thead th {\n",
              "        text-align: right;\n",
              "    }\n",
              "</style>\n",
              "<table border=\"1\" class=\"dataframe\">\n",
              "  <thead>\n",
              "    <tr style=\"text-align: right;\">\n",
              "      <th></th>\n",
              "      <th>Column1</th>\n",
              "      <th>publishedDate</th>\n",
              "      <th>tweet_id</th>\n",
              "      <th>text</th>\n",
              "      <th>sentiment</th>\n",
              "      <th>username</th>\n",
              "      <th>user_followerCount</th>\n",
              "      <th>replyCount</th>\n",
              "      <th>retweetCount</th>\n",
              "      <th>likeCount</th>\n",
              "      <th>quoteCount</th>\n",
              "      <th>outlinks</th>\n",
              "      <th>media</th>\n",
              "      <th>quotedTweet</th>\n",
              "      <th>mentionedUsers</th>\n",
              "      <th>hashtags</th>\n",
              "      <th>length</th>\n",
              "      <th>#hashtag</th>\n",
              "      <th>Day</th>\n",
              "      <th>Month</th>\n",
              "      <th>Date</th>\n",
              "      <th>has_media</th>\n",
              "      <th>has_bad_word</th>\n",
              "    </tr>\n",
              "  </thead>\n",
              "  <tbody>\n",
              "    <tr>\n",
              "      <th>0</th>\n",
              "      <td>0</td>\n",
              "      <td>2019-12-30 15:56:00</td>\n",
              "      <td>1.211570e+18</td>\n",
              "      <td>ส่งวันศุกร์ วันจันทร์ยังไม่ได้ แล้วใช้ 31เอาไง...</td>\n",
              "      <td>neg</td>\n",
              "      <td>_pptng</td>\n",
              "      <td>125</td>\n",
              "      <td>1</td>\n",
              "      <td>0</td>\n",
              "      <td>0</td>\n",
              "      <td>0</td>\n",
              "      <td>NaN</td>\n",
              "      <td>[Photo(previewUrl='https://pbs.twimg.com/media...</td>\n",
              "      <td>NaN</td>\n",
              "      <td>NaN</td>\n",
              "      <td>['ไปรษณีย์ไทย', 'ปณ']</td>\n",
              "      <td>65</td>\n",
              "      <td>2</td>\n",
              "      <td>Mon</td>\n",
              "      <td>2019-12</td>\n",
              "      <td>30</td>\n",
              "      <td>True</td>\n",
              "      <td>False</td>\n",
              "    </tr>\n",
              "    <tr>\n",
              "      <th>1</th>\n",
              "      <td>1</td>\n",
              "      <td>2019-12-30 15:32:00</td>\n",
              "      <td>1.211570e+18</td>\n",
              "      <td>ลืมว่าเขตบ้านกุมันห่วยเพราะไม่เคยใช้บริการนานแ...</td>\n",
              "      <td>neg</td>\n",
              "      <td>2richcocoa</td>\n",
              "      <td>56</td>\n",
              "      <td>1</td>\n",
              "      <td>0</td>\n",
              "      <td>0</td>\n",
              "      <td>0</td>\n",
              "      <td>NaN</td>\n",
              "      <td>[Photo(previewUrl='https://pbs.twimg.com/media...</td>\n",
              "      <td>NaN</td>\n",
              "      <td>NaN</td>\n",
              "      <td>['ไปรษณีย์ไทย', 'EMS', 'ศปศรีราชา', 'ไปรษณีย์อ...</td>\n",
              "      <td>256</td>\n",
              "      <td>4</td>\n",
              "      <td>Mon</td>\n",
              "      <td>2019-12</td>\n",
              "      <td>30</td>\n",
              "      <td>True</td>\n",
              "      <td>True</td>\n",
              "    </tr>\n",
              "    <tr>\n",
              "      <th>2</th>\n",
              "      <td>4</td>\n",
              "      <td>2019-12-30 11:55:00</td>\n",
              "      <td>1.211510e+18</td>\n",
              "      <td>มาค่ะมีเรื่องให้กรี๊ดทุกรอบที่ใช้บริการ รอบนี้...</td>\n",
              "      <td>neg</td>\n",
              "      <td>Duckky_teuk</td>\n",
              "      <td>564</td>\n",
              "      <td>1</td>\n",
              "      <td>0</td>\n",
              "      <td>0</td>\n",
              "      <td>0</td>\n",
              "      <td>NaN</td>\n",
              "      <td>NaN</td>\n",
              "      <td>NaN</td>\n",
              "      <td>NaN</td>\n",
              "      <td>['ไปรษณีย์ไทย']</td>\n",
              "      <td>103</td>\n",
              "      <td>1</td>\n",
              "      <td>Mon</td>\n",
              "      <td>2019-12</td>\n",
              "      <td>30</td>\n",
              "      <td>False</td>\n",
              "      <td>False</td>\n",
              "    </tr>\n",
              "    <tr>\n",
              "      <th>3</th>\n",
              "      <td>11</td>\n",
              "      <td>2019-12-29 11:06:00</td>\n",
              "      <td>1.211140e+18</td>\n",
              "      <td>เรียน  บนซองก็เขียนนะคะว่าอย่าพับจริงอยู่ว่าอา...</td>\n",
              "      <td>neg</td>\n",
              "      <td>yeporpor</td>\n",
              "      <td>918</td>\n",
              "      <td>4</td>\n",
              "      <td>9</td>\n",
              "      <td>4</td>\n",
              "      <td>0</td>\n",
              "      <td>NaN</td>\n",
              "      <td>[Photo(previewUrl='https://pbs.twimg.com/media...</td>\n",
              "      <td>NaN</td>\n",
              "      <td>[User(username='Thailand_Post', id=202105105, ...</td>\n",
              "      <td>['ไปรษณีย์ไทย']</td>\n",
              "      <td>264</td>\n",
              "      <td>1</td>\n",
              "      <td>Sun</td>\n",
              "      <td>2019-12</td>\n",
              "      <td>29</td>\n",
              "      <td>True</td>\n",
              "      <td>False</td>\n",
              "    </tr>\n",
              "    <tr>\n",
              "      <th>4</th>\n",
              "      <td>12</td>\n",
              "      <td>2019-12-29 10:43:00</td>\n",
              "      <td>1.211130e+18</td>\n",
              "      <td>ถ้าถามว่าดีไหมก็ดีค่ะอุดหนุนไปรษณีย์ไทยตลอด ลง...</td>\n",
              "      <td>neg</td>\n",
              "      <td>nomaleemelukmaw</td>\n",
              "      <td>0</td>\n",
              "      <td>1</td>\n",
              "      <td>0</td>\n",
              "      <td>0</td>\n",
              "      <td>0</td>\n",
              "      <td>NaN</td>\n",
              "      <td>[Photo(previewUrl='https://pbs.twimg.com/media...</td>\n",
              "      <td>NaN</td>\n",
              "      <td>NaN</td>\n",
              "      <td>['ไปรษณีย์ไทย']</td>\n",
              "      <td>280</td>\n",
              "      <td>1</td>\n",
              "      <td>Sun</td>\n",
              "      <td>2019-12</td>\n",
              "      <td>29</td>\n",
              "      <td>True</td>\n",
              "      <td>False</td>\n",
              "    </tr>\n",
              "    <tr>\n",
              "      <th>...</th>\n",
              "      <td>...</td>\n",
              "      <td>...</td>\n",
              "      <td>...</td>\n",
              "      <td>...</td>\n",
              "      <td>...</td>\n",
              "      <td>...</td>\n",
              "      <td>...</td>\n",
              "      <td>...</td>\n",
              "      <td>...</td>\n",
              "      <td>...</td>\n",
              "      <td>...</td>\n",
              "      <td>...</td>\n",
              "      <td>...</td>\n",
              "      <td>...</td>\n",
              "      <td>...</td>\n",
              "      <td>...</td>\n",
              "      <td>...</td>\n",
              "      <td>...</td>\n",
              "      <td>...</td>\n",
              "      <td>...</td>\n",
              "      <td>...</td>\n",
              "      <td>...</td>\n",
              "      <td>...</td>\n",
              "    </tr>\n",
              "    <tr>\n",
              "      <th>2610</th>\n",
              "      <td>4317</td>\n",
              "      <td>2019-01-03 10:17:00</td>\n",
              "      <td>1.080660e+18</td>\n",
              "      <td>ด้วยความที่นางส่งเก่ง ที่อยู่ผิดถูก ชื่อตรงไม่...</td>\n",
              "      <td>pos</td>\n",
              "      <td>YLLORRAEP</td>\n",
              "      <td>588</td>\n",
              "      <td>1</td>\n",
              "      <td>0</td>\n",
              "      <td>1</td>\n",
              "      <td>0</td>\n",
              "      <td>NaN</td>\n",
              "      <td>NaN</td>\n",
              "      <td>NaN</td>\n",
              "      <td>NaN</td>\n",
              "      <td>['ไปรษณีย์ไทย']</td>\n",
              "      <td>188</td>\n",
              "      <td>1</td>\n",
              "      <td>Thu</td>\n",
              "      <td>2019-01</td>\n",
              "      <td>3</td>\n",
              "      <td>False</td>\n",
              "      <td>False</td>\n",
              "    </tr>\n",
              "    <tr>\n",
              "      <th>2611</th>\n",
              "      <td>4318</td>\n",
              "      <td>2019-01-03 08:22:00</td>\n",
              "      <td>1.080640e+18</td>\n",
              "      <td>เค้าบอกของจะมาส่งอีกทีเมื่อวานยังไม่ได้เลย 😭 #...</td>\n",
              "      <td>neg</td>\n",
              "      <td>FiggySpd</td>\n",
              "      <td>142</td>\n",
              "      <td>0</td>\n",
              "      <td>0</td>\n",
              "      <td>0</td>\n",
              "      <td>0</td>\n",
              "      <td>NaN</td>\n",
              "      <td>[Photo(previewUrl='https://pbs.twimg.com/media...</td>\n",
              "      <td>NaN</td>\n",
              "      <td>NaN</td>\n",
              "      <td>['ไปรษณีย์ไทย']</td>\n",
              "      <td>57</td>\n",
              "      <td>1</td>\n",
              "      <td>Thu</td>\n",
              "      <td>2019-01</td>\n",
              "      <td>3</td>\n",
              "      <td>True</td>\n",
              "      <td>False</td>\n",
              "    </tr>\n",
              "    <tr>\n",
              "      <th>2612</th>\n",
              "      <td>4319</td>\n",
              "      <td>2019-01-02 22:52:00</td>\n",
              "      <td>1.080490e+18</td>\n",
              "      <td>สิ่งที่ #ไปรษณีย์ไทย ควรเอาเป็นแบบอย่างคือ การ...</td>\n",
              "      <td>neg</td>\n",
              "      <td>KHs_1611</td>\n",
              "      <td>260</td>\n",
              "      <td>0</td>\n",
              "      <td>0</td>\n",
              "      <td>0</td>\n",
              "      <td>0</td>\n",
              "      <td>NaN</td>\n",
              "      <td>[Photo(previewUrl='https://pbs.twimg.com/media...</td>\n",
              "      <td>NaN</td>\n",
              "      <td>NaN</td>\n",
              "      <td>['ไปรษณีย์ไทย']</td>\n",
              "      <td>66</td>\n",
              "      <td>1</td>\n",
              "      <td>Wed</td>\n",
              "      <td>2019-01</td>\n",
              "      <td>2</td>\n",
              "      <td>True</td>\n",
              "      <td>False</td>\n",
              "    </tr>\n",
              "    <tr>\n",
              "      <th>2613</th>\n",
              "      <td>4321</td>\n",
              "      <td>2019-01-02 18:26:00</td>\n",
              "      <td>1.080430e+18</td>\n",
              "      <td>วันนี้ประทับใจพี่ไปรมากกกกกก&amp;gt; &amp;lt;  อาจารย์...</td>\n",
              "      <td>pos</td>\n",
              "      <td>Ployxoxo90</td>\n",
              "      <td>17</td>\n",
              "      <td>0</td>\n",
              "      <td>0</td>\n",
              "      <td>0</td>\n",
              "      <td>0</td>\n",
              "      <td>NaN</td>\n",
              "      <td>NaN</td>\n",
              "      <td>NaN</td>\n",
              "      <td>NaN</td>\n",
              "      <td>['ไปรษณีย์ไทย']</td>\n",
              "      <td>116</td>\n",
              "      <td>1</td>\n",
              "      <td>Wed</td>\n",
              "      <td>2019-01</td>\n",
              "      <td>2</td>\n",
              "      <td>False</td>\n",
              "      <td>False</td>\n",
              "    </tr>\n",
              "    <tr>\n",
              "      <th>2614</th>\n",
              "      <td>4323</td>\n",
              "      <td>2019-01-02 14:37:00</td>\n",
              "      <td>1.080370e+18</td>\n",
              "      <td>กราบพี่ไปร ส่งเช้าได้ของบ่ายย เร็วกว่าเคอรี่ไป...</td>\n",
              "      <td>pos</td>\n",
              "      <td>cobaltcappa</td>\n",
              "      <td>19</td>\n",
              "      <td>0</td>\n",
              "      <td>0</td>\n",
              "      <td>0</td>\n",
              "      <td>0</td>\n",
              "      <td>NaN</td>\n",
              "      <td>[Photo(previewUrl='https://pbs.twimg.com/media...</td>\n",
              "      <td>NaN</td>\n",
              "      <td>NaN</td>\n",
              "      <td>['ไปรษณีย์ไทย']</td>\n",
              "      <td>63</td>\n",
              "      <td>1</td>\n",
              "      <td>Wed</td>\n",
              "      <td>2019-01</td>\n",
              "      <td>2</td>\n",
              "      <td>True</td>\n",
              "      <td>False</td>\n",
              "    </tr>\n",
              "  </tbody>\n",
              "</table>\n",
              "<p>2615 rows × 23 columns</p>\n",
              "</div>\n",
              "      <button class=\"colab-df-convert\" onclick=\"convertToInteractive('df-a365dd52-1fae-4692-b7be-7a94dbac5854')\"\n",
              "              title=\"Convert this dataframe to an interactive table.\"\n",
              "              style=\"display:none;\">\n",
              "        \n",
              "  <svg xmlns=\"http://www.w3.org/2000/svg\" height=\"24px\"viewBox=\"0 0 24 24\"\n",
              "       width=\"24px\">\n",
              "    <path d=\"M0 0h24v24H0V0z\" fill=\"none\"/>\n",
              "    <path d=\"M18.56 5.44l.94 2.06.94-2.06 2.06-.94-2.06-.94-.94-2.06-.94 2.06-2.06.94zm-11 1L8.5 8.5l.94-2.06 2.06-.94-2.06-.94L8.5 2.5l-.94 2.06-2.06.94zm10 10l.94 2.06.94-2.06 2.06-.94-2.06-.94-.94-2.06-.94 2.06-2.06.94z\"/><path d=\"M17.41 7.96l-1.37-1.37c-.4-.4-.92-.59-1.43-.59-.52 0-1.04.2-1.43.59L10.3 9.45l-7.72 7.72c-.78.78-.78 2.05 0 2.83L4 21.41c.39.39.9.59 1.41.59.51 0 1.02-.2 1.41-.59l7.78-7.78 2.81-2.81c.8-.78.8-2.07 0-2.86zM5.41 20L4 18.59l7.72-7.72 1.47 1.35L5.41 20z\"/>\n",
              "  </svg>\n",
              "      </button>\n",
              "      \n",
              "  <style>\n",
              "    .colab-df-container {\n",
              "      display:flex;\n",
              "      flex-wrap:wrap;\n",
              "      gap: 12px;\n",
              "    }\n",
              "\n",
              "    .colab-df-convert {\n",
              "      background-color: #E8F0FE;\n",
              "      border: none;\n",
              "      border-radius: 50%;\n",
              "      cursor: pointer;\n",
              "      display: none;\n",
              "      fill: #1967D2;\n",
              "      height: 32px;\n",
              "      padding: 0 0 0 0;\n",
              "      width: 32px;\n",
              "    }\n",
              "\n",
              "    .colab-df-convert:hover {\n",
              "      background-color: #E2EBFA;\n",
              "      box-shadow: 0px 1px 2px rgba(60, 64, 67, 0.3), 0px 1px 3px 1px rgba(60, 64, 67, 0.15);\n",
              "      fill: #174EA6;\n",
              "    }\n",
              "\n",
              "    [theme=dark] .colab-df-convert {\n",
              "      background-color: #3B4455;\n",
              "      fill: #D2E3FC;\n",
              "    }\n",
              "\n",
              "    [theme=dark] .colab-df-convert:hover {\n",
              "      background-color: #434B5C;\n",
              "      box-shadow: 0px 1px 3px 1px rgba(0, 0, 0, 0.15);\n",
              "      filter: drop-shadow(0px 1px 2px rgba(0, 0, 0, 0.3));\n",
              "      fill: #FFFFFF;\n",
              "    }\n",
              "  </style>\n",
              "\n",
              "      <script>\n",
              "        const buttonEl =\n",
              "          document.querySelector('#df-a365dd52-1fae-4692-b7be-7a94dbac5854 button.colab-df-convert');\n",
              "        buttonEl.style.display =\n",
              "          google.colab.kernel.accessAllowed ? 'block' : 'none';\n",
              "\n",
              "        async function convertToInteractive(key) {\n",
              "          const element = document.querySelector('#df-a365dd52-1fae-4692-b7be-7a94dbac5854');\n",
              "          const dataTable =\n",
              "            await google.colab.kernel.invokeFunction('convertToInteractive',\n",
              "                                                     [key], {});\n",
              "          if (!dataTable) return;\n",
              "\n",
              "          const docLinkHtml = 'Like what you see? Visit the ' +\n",
              "            '<a target=\"_blank\" href=https://colab.research.google.com/notebooks/data_table.ipynb>data table notebook</a>'\n",
              "            + ' to learn more about interactive tables.';\n",
              "          element.innerHTML = '';\n",
              "          dataTable['output_type'] = 'display_data';\n",
              "          await google.colab.output.renderOutput(dataTable, element);\n",
              "          const docLink = document.createElement('div');\n",
              "          docLink.innerHTML = docLinkHtml;\n",
              "          element.appendChild(docLink);\n",
              "        }\n",
              "      </script>\n",
              "    </div>\n",
              "  </div>\n",
              "  "
            ],
            "text/plain": [
              "      Column1       publishedDate      tweet_id  ... Date has_media has_bad_word\n",
              "0           0 2019-12-30 15:56:00  1.211570e+18  ...   30      True        False\n",
              "1           1 2019-12-30 15:32:00  1.211570e+18  ...   30      True         True\n",
              "2           4 2019-12-30 11:55:00  1.211510e+18  ...   30     False        False\n",
              "3          11 2019-12-29 11:06:00  1.211140e+18  ...   29      True        False\n",
              "4          12 2019-12-29 10:43:00  1.211130e+18  ...   29      True        False\n",
              "...       ...                 ...           ...  ...  ...       ...          ...\n",
              "2610     4317 2019-01-03 10:17:00  1.080660e+18  ...    3     False        False\n",
              "2611     4318 2019-01-03 08:22:00  1.080640e+18  ...    3      True        False\n",
              "2612     4319 2019-01-02 22:52:00  1.080490e+18  ...    2      True        False\n",
              "2613     4321 2019-01-02 18:26:00  1.080430e+18  ...    2     False        False\n",
              "2614     4323 2019-01-02 14:37:00  1.080370e+18  ...    2      True        False\n",
              "\n",
              "[2615 rows x 23 columns]"
            ]
          },
          "metadata": {},
          "execution_count": 188
        }
      ]
    },
    {
      "cell_type": "code",
      "source": [],
      "metadata": {
        "id": "obTvR3lh7DlS"
      },
      "execution_count": null,
      "outputs": []
    }
  ]
}